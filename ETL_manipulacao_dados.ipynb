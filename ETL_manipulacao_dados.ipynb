{
 "cells": [
  {
   "cell_type": "markdown",
   "id": "0dd5e78e",
   "metadata": {},
   "source": [
    "# MANIPULAÇÃO DOS DADOS"
   ]
  },
  {
   "cell_type": "markdown",
   "id": "395fcadc",
   "metadata": {},
   "source": [
    "## Sessão Spark"
   ]
  },
  {
   "cell_type": "code",
   "execution_count": 3,
   "id": "68998f7f",
   "metadata": {},
   "outputs": [],
   "source": [
    "import findspark\n",
    "import os\n",
    "\n",
    "findspark.init()\n",
    "\n",
    "from pyspark.sql import SparkSession\n",
    "spark = SparkSession \\\n",
    "    .builder \\\n",
    "    .appName(\"Spark csv schema inference\") \\\n",
    "    .config(\"spark.sql.warehouse.dir\") \\\n",
    "    .enableHiveSupport() \\\n",
    "    .getOrCreate()"
   ]
  },
  {
   "cell_type": "markdown",
   "id": "28591037",
   "metadata": {},
   "source": [
    "## Imports"
   ]
  },
  {
   "cell_type": "code",
   "execution_count": 6,
   "id": "922c803b",
   "metadata": {},
   "outputs": [],
   "source": [
    "from pyspark.sql.functions import *\n",
    "import pandas as pd\n",
    "import sqlite3\n",
    "from functools import reduce"
   ]
  },
  {
   "cell_type": "markdown",
   "id": "e9a3184a",
   "metadata": {},
   "source": [
    "## PARÂMETROS DO NOTEBOOK"
   ]
  },
  {
   "cell_type": "code",
   "execution_count": 7,
   "id": "a3d95937",
   "metadata": {},
   "outputs": [],
   "source": [
    "# Caminho dos CSVs\n",
    "sales_data_path = 'data/sales_data.csv'\n",
    "website_data_path = 'data/website_logs.csv'"
   ]
  },
  {
   "cell_type": "markdown",
   "id": "d7691f20",
   "metadata": {},
   "source": [
    "## Carregando dados de CSV"
   ]
  },
  {
   "cell_type": "code",
   "execution_count": 8,
   "id": "3cdcd29b",
   "metadata": {},
   "outputs": [],
   "source": [
    "sales = spark.read.csv(sales_data_path, sep = ',', header = True)\n",
    "website = spark.read.csv(website_data_path, sep = ',', header = True)"
   ]
  },
  {
   "cell_type": "markdown",
   "id": "98ed84a9",
   "metadata": {},
   "source": [
    "## Visualizando dados"
   ]
  },
  {
   "cell_type": "code",
   "execution_count": 9,
   "id": "8d7f46e1",
   "metadata": {},
   "outputs": [
    {
     "name": "stdout",
     "output_type": "stream",
     "text": [
      "+--------------+----------+----------+---------+----------+--------+\n",
      "|transaction_id|      date|product_id|seller_id|sale_value|currency|\n",
      "+--------------+----------+----------+---------+----------+--------+\n",
      "|          1001|2023-07-25|       501|     2001|       150|    FICT|\n",
      "|          1002|2023-07-25|       502|     2001|       300|    FICT|\n",
      "|          1003|2023-07-25|       501|     2002|       160|    FICT|\n",
      "|          1004|2023-07-25|       503|     2002|       210|    FICT|\n",
      "|          1005|2023-07-25|       504|     2003|        75|    FICT|\n",
      "+--------------+----------+----------+---------+----------+--------+\n",
      "only showing top 5 rows\n",
      "\n"
     ]
    }
   ],
   "source": [
    "sales.show(5)"
   ]
  },
  {
   "cell_type": "code",
   "execution_count": 10,
   "id": "f7f9bc4b",
   "metadata": {},
   "outputs": [
    {
     "name": "stdout",
     "output_type": "stream",
     "text": [
      "+-------+-----------------+----------------+----------+\n",
      "|user_id|         page_url|session_duration|      date|\n",
      "+-------+-----------------+----------------+----------+\n",
      "|  10001|    homepage.html|              15|2023-07-25|\n",
      "|  10002|product_page.html|             120|2023-07-25|\n",
      "|  10003|    checkout.html|              45|2023-07-25|\n",
      "|  10004|     contact.html|              20|2023-07-25|\n",
      "|  10005|    homepage.html|              10|2023-07-25|\n",
      "+-------+-----------------+----------------+----------+\n",
      "only showing top 5 rows\n",
      "\n"
     ]
    }
   ],
   "source": [
    "website.show(5)"
   ]
  },
  {
   "cell_type": "markdown",
   "id": "db59d9c9",
   "metadata": {},
   "source": [
    "## Contagens"
   ]
  },
  {
   "cell_type": "code",
   "execution_count": 11,
   "id": "105cb9ee",
   "metadata": {},
   "outputs": [
    {
     "name": "stdout",
     "output_type": "stream",
     "text": [
      "count sales_data:  40\n",
      "count website_logs:  184\n"
     ]
    }
   ],
   "source": [
    "print('count sales_data: ', sales.count())\n",
    "print('count website_logs: ', website.count())"
   ]
  },
  {
   "cell_type": "markdown",
   "id": "d1a62f83",
   "metadata": {},
   "source": [
    "## Schema"
   ]
  },
  {
   "cell_type": "code",
   "execution_count": 17,
   "id": "bf764c32",
   "metadata": {},
   "outputs": [
    {
     "name": "stdout",
     "output_type": "stream",
     "text": [
      "root\n",
      " |-- transaction_id: string (nullable = true)\n",
      " |-- date: string (nullable = true)\n",
      " |-- product_id: string (nullable = true)\n",
      " |-- seller_id: string (nullable = true)\n",
      " |-- sale_value: string (nullable = true)\n",
      " |-- currency: string (nullable = true)\n",
      "\n",
      "None\n",
      "root\n",
      " |-- user_id: string (nullable = true)\n",
      " |-- page_url: string (nullable = true)\n",
      " |-- session_duration: string (nullable = true)\n",
      " |-- date: string (nullable = true)\n",
      "\n",
      "None\n"
     ]
    }
   ],
   "source": [
    "print(sales.printSchema())\n",
    "print(website.printSchema())"
   ]
  },
  {
   "cell_type": "markdown",
   "id": "72da533b",
   "metadata": {},
   "source": [
    "## Limpando os dados removendo linhas duplicadas e tratando valores ausentes"
   ]
  },
  {
   "cell_type": "code",
   "execution_count": 18,
   "id": "93b29a2c",
   "metadata": {},
   "outputs": [
    {
     "name": "stdout",
     "output_type": "stream",
     "text": [
      "count sales_data LIMPO:  40\n",
      "count website_logs LIMPO:  184\n"
     ]
    }
   ],
   "source": [
    "sales_clean = sales.distinct()\n",
    "website_clean = website.distinct()\n",
    "\n",
    "print('count sales_data LIMPO: ', sales_clean.count())\n",
    "print('count website_logs LIMPO: ', website_clean.count())"
   ]
  },
  {
   "cell_type": "markdown",
   "id": "8fd969c9",
   "metadata": {},
   "source": [
    "#### Contagem de Nulos por coluna"
   ]
  },
  {
   "cell_type": "code",
   "execution_count": 27,
   "id": "76e5ed29",
   "metadata": {},
   "outputs": [
    {
     "name": "stdout",
     "output_type": "stream",
     "text": [
      "sales_data\n",
      "Quantidade de nulos por colunas:\n",
      "+--------------+----+----------+---------+----------+--------+\n",
      "|transaction_id|date|product_id|seller_id|sale_value|currency|\n",
      "+--------------+----+----------+---------+----------+--------+\n",
      "|             0|   0|         0|        0|         0|       0|\n",
      "+--------------+----+----------+---------+----------+--------+\n",
      "\n"
     ]
    }
   ],
   "source": [
    "print('sales_data')\n",
    "print('Quantidade de nulos por colunas:')\n",
    "sales_clean.select([count(when(col(c).isNull(),c)).alias(c) for c in sales_clean.columns]).show()"
   ]
  },
  {
   "cell_type": "code",
   "execution_count": 26,
   "id": "57819481",
   "metadata": {},
   "outputs": [
    {
     "name": "stdout",
     "output_type": "stream",
     "text": [
      "website_data\n",
      "Quantidade de nulos por colunas:\n",
      "+-------+--------+----------------+----+\n",
      "|user_id|page_url|session_duration|date|\n",
      "+-------+--------+----------------+----+\n",
      "|      0|       0|               0|   0|\n",
      "+-------+--------+----------------+----+\n",
      "\n"
     ]
    }
   ],
   "source": [
    "print('website_data')\n",
    "print('Quantidade de nulos por colunas:')\n",
    "website_clean.select([count(when(col(c).isNull(),c)).alias(c) for c in website_clean.columns]).show()"
   ]
  },
  {
   "cell_type": "markdown",
   "id": "112becc1",
   "metadata": {},
   "source": [
    "### Não há valores ausentes ou duplicações!"
   ]
  },
  {
   "cell_type": "markdown",
   "id": "02941190",
   "metadata": {},
   "source": [
    "## Transformando o valor da venda de uma moeda fictícia para USD usando a taxa de conversão de 1 FICT = 0.75 USD."
   ]
  },
  {
   "cell_type": "code",
   "execution_count": 41,
   "id": "62f8a4a6",
   "metadata": {},
   "outputs": [],
   "source": [
    "sales_converted = sales_clean\\\n",
    "    .withColumn('sale_value', when(col('currency') == 'FICT', col('sale_value') * 0.75))\\\n",
    "    .withColumn('currency', when(col('currency') == 'FICT', lit('USD')))"
   ]
  },
  {
   "cell_type": "code",
   "execution_count": 42,
   "id": "84451362",
   "metadata": {},
   "outputs": [
    {
     "name": "stdout",
     "output_type": "stream",
     "text": [
      "+--------------+----------+----------+---------+----------+--------+\n",
      "|transaction_id|      date|product_id|seller_id|sale_value|currency|\n",
      "+--------------+----------+----------+---------+----------+--------+\n",
      "|          1033|2023-08-01|       517|     2001|     157.5|     USD|\n",
      "|          1017|2023-07-28|       501|     2002|    116.25|     USD|\n",
      "|          1026|2023-07-30|       511|     2002|     150.0|     USD|\n",
      "|          1004|2023-07-25|       503|     2002|     157.5|     USD|\n",
      "|          1030|2023-07-31|       515|     2001|     127.5|     USD|\n",
      "|          1034|2023-08-01|       518|     2002|     180.0|     USD|\n",
      "|          1015|2023-07-27|       503|     2001|     157.5|     USD|\n",
      "|          1011|2023-07-27|       501|     2002|    123.75|     USD|\n",
      "|          1032|2023-07-31|       508|     2003|    191.25|     USD|\n",
      "|          1024|2023-07-29|       510|     2002|      66.0|     USD|\n",
      "|          1018|2023-07-28|       502|     2002|    228.75|     USD|\n",
      "|          1040|2023-08-03|       518|     2002|    176.25|     USD|\n",
      "|          1003|2023-07-25|       501|     2002|     120.0|     USD|\n",
      "|          1010|2023-07-26|       504|     2003|      52.5|     USD|\n",
      "|          1038|2023-08-02|       517|     2003|    161.25|     USD|\n",
      "|          1027|2023-07-30|       514|     2001|     112.5|     USD|\n",
      "|          1036|2023-08-02|       514|     2002|    116.25|     USD|\n",
      "|          1035|2023-08-01|       511|     2003|     148.5|     USD|\n",
      "|          1021|2023-07-29|       511|     2001|    146.25|     USD|\n",
      "|          1037|2023-08-02|       519|     2001|     135.0|     USD|\n",
      "+--------------+----------+----------+---------+----------+--------+\n",
      "only showing top 20 rows\n",
      "\n"
     ]
    }
   ],
   "source": [
    "# Visualizando\n",
    "sales_converted.show()"
   ]
  },
  {
   "cell_type": "markdown",
   "id": "222512b2",
   "metadata": {},
   "source": [
    "## Carregando os dados limpos e transformados em um banco de dados relacional."
   ]
  },
  {
   "cell_type": "code",
   "execution_count": 45,
   "id": "d9d61a54",
   "metadata": {},
   "outputs": [],
   "source": [
    "sales_pd = sales_converted.toPandas()\n",
    "website_pd = website_clean.toPandas()"
   ]
  },
  {
   "cell_type": "code",
   "execution_count": 47,
   "id": "cea5d22e",
   "metadata": {},
   "outputs": [],
   "source": [
    "sales_pd.columns = sales_pd.columns.str.strip()\n",
    "website_pd.columns = website_pd.columns.str.strip()"
   ]
  },
  {
   "cell_type": "markdown",
   "id": "9e3b2fcb",
   "metadata": {},
   "source": [
    "#### Criando conexão ao database SQLite"
   ]
  },
  {
   "cell_type": "code",
   "execution_count": 148,
   "id": "a53d32c2",
   "metadata": {},
   "outputs": [],
   "source": [
    "conexao = sqlite3.connect('itau.db')"
   ]
  },
  {
   "cell_type": "code",
   "execution_count": 143,
   "id": "64468576",
   "metadata": {},
   "outputs": [
    {
     "data": {
      "text/plain": [
       "184"
      ]
     },
     "execution_count": 143,
     "metadata": {},
     "output_type": "execute_result"
    }
   ],
   "source": [
    "sales_pd.to_sql('tb_sales_data', conexao, if_exists='replace')\n",
    "website_pd.to_sql('tb_website_data', conexao, if_exists='replace')"
   ]
  },
  {
   "cell_type": "markdown",
   "id": "6badf0af",
   "metadata": {},
   "source": [
    "#### Realizando uma query no banco de dados criado"
   ]
  },
  {
   "cell_type": "code",
   "execution_count": 174,
   "id": "33e05abd",
   "metadata": {},
   "outputs": [],
   "source": [
    "rows = conexao.execute('select * from tb_sales_data')\n",
    "columns = [col[0] for col in rows.description]"
   ]
  },
  {
   "cell_type": "code",
   "execution_count": 175,
   "id": "bae464e7",
   "metadata": {},
   "outputs": [],
   "source": [
    "sales_query = spark.createDataFrame(rows.fetchall(), schema=columns)"
   ]
  },
  {
   "cell_type": "code",
   "execution_count": 177,
   "id": "871858ac",
   "metadata": {},
   "outputs": [
    {
     "name": "stdout",
     "output_type": "stream",
     "text": [
      "+-----+--------------+----------+----------+---------+----------+--------+\n",
      "|index|transaction_id|      date|product_id|seller_id|sale_value|currency|\n",
      "+-----+--------------+----------+----------+---------+----------+--------+\n",
      "|    0|          1033|2023-08-01|       517|     2001|     157.5|     USD|\n",
      "|    1|          1017|2023-07-28|       501|     2002|    116.25|     USD|\n",
      "|    2|          1026|2023-07-30|       511|     2002|     150.0|     USD|\n",
      "|    3|          1004|2023-07-25|       503|     2002|     157.5|     USD|\n",
      "|    4|          1030|2023-07-31|       515|     2001|     127.5|     USD|\n",
      "|    5|          1034|2023-08-01|       518|     2002|     180.0|     USD|\n",
      "|    6|          1015|2023-07-27|       503|     2001|     157.5|     USD|\n",
      "|    7|          1011|2023-07-27|       501|     2002|    123.75|     USD|\n",
      "|    8|          1032|2023-07-31|       508|     2003|    191.25|     USD|\n",
      "|    9|          1024|2023-07-29|       510|     2002|      66.0|     USD|\n",
      "|   10|          1018|2023-07-28|       502|     2002|    228.75|     USD|\n",
      "|   11|          1040|2023-08-03|       518|     2002|    176.25|     USD|\n",
      "|   12|          1003|2023-07-25|       501|     2002|     120.0|     USD|\n",
      "|   13|          1010|2023-07-26|       504|     2003|      52.5|     USD|\n",
      "|   14|          1038|2023-08-02|       517|     2003|    161.25|     USD|\n",
      "|   15|          1027|2023-07-30|       514|     2001|     112.5|     USD|\n",
      "|   16|          1036|2023-08-02|       514|     2002|    116.25|     USD|\n",
      "|   17|          1035|2023-08-01|       511|     2003|     148.5|     USD|\n",
      "|   18|          1021|2023-07-29|       511|     2001|    146.25|     USD|\n",
      "|   19|          1037|2023-08-02|       519|     2001|     135.0|     USD|\n",
      "+-----+--------------+----------+----------+---------+----------+--------+\n",
      "only showing top 20 rows\n",
      "\n"
     ]
    }
   ],
   "source": [
    "sales_query.show()"
   ]
  },
  {
   "cell_type": "markdown",
   "id": "5be1e3fa",
   "metadata": {},
   "source": [
    "#### Fechando conexão"
   ]
  },
  {
   "cell_type": "code",
   "execution_count": 79,
   "id": "613f1490",
   "metadata": {},
   "outputs": [],
   "source": [
    "conexao.close()"
   ]
  },
  {
   "cell_type": "markdown",
   "id": "97afe55a",
   "metadata": {},
   "source": [
    "## Trabalhando em uma ware-house spark"
   ]
  },
  {
   "cell_type": "markdown",
   "id": "49dbebb5",
   "metadata": {},
   "source": [
    "#### Salvando tabelas"
   ]
  },
  {
   "cell_type": "code",
   "execution_count": 178,
   "id": "87bf6502",
   "metadata": {},
   "outputs": [],
   "source": [
    "sales_converted.write.format('orc').mode('overwrite').saveAsTable('default.sales_converted')\n",
    "website_clean.write.format('orc').mode('overwrite').saveAsTable('default.website_logs')"
   ]
  },
  {
   "cell_type": "markdown",
   "id": "885c6343",
   "metadata": {},
   "source": [
    "#### Recarregando tabelas"
   ]
  },
  {
   "cell_type": "code",
   "execution_count": 179,
   "id": "dc5dc6bc",
   "metadata": {},
   "outputs": [],
   "source": [
    "sales_converted = spark.table('default.sales_converted')\n",
    "website_clean = spark.table('default.website_logs')"
   ]
  },
  {
   "cell_type": "markdown",
   "id": "c8fbb595",
   "metadata": {},
   "source": [
    "# ANÁLISE SPARK DOS DADOS"
   ]
  },
  {
   "cell_type": "markdown",
   "id": "6cfd0f24",
   "metadata": {},
   "source": [
    "## Identificando as páginas mais visitadas"
   ]
  },
  {
   "cell_type": "code",
   "execution_count": 184,
   "id": "279d6b39",
   "metadata": {},
   "outputs": [],
   "source": [
    "website_grouped = website_clean.groupBy('page_url').count().orderBy('count', ascending=False)"
   ]
  },
  {
   "cell_type": "code",
   "execution_count": 186,
   "id": "005f7ffb",
   "metadata": {},
   "outputs": [
    {
     "name": "stdout",
     "output_type": "stream",
     "text": [
      "+-----------------+-----+\n",
      "|         page_url|count|\n",
      "+-----------------+-----+\n",
      "|    homepage.html|   51|\n",
      "|product_page.html|   46|\n",
      "|    checkout.html|   35|\n",
      "|     contact.html|   19|\n",
      "|        blog.html|   18|\n",
      "|         faq.html|   14|\n",
      "|    about_us.html|    1|\n",
      "+-----------------+-----+\n",
      "\n"
     ]
    }
   ],
   "source": [
    "website_grouped.show()"
   ]
  },
  {
   "cell_type": "code",
   "execution_count": 205,
   "id": "cf37525e",
   "metadata": {},
   "outputs": [],
   "source": [
    "website_percents = website_grouped \\\n",
    "    .select('*', round(((col('count')/website_grouped.select(sum('count')).collect()[0][0])*100), 2).alias('percent'))"
   ]
  },
  {
   "cell_type": "code",
   "execution_count": 207,
   "id": "402c5f0c",
   "metadata": {},
   "outputs": [
    {
     "name": "stdout",
     "output_type": "stream",
     "text": [
      "+-----------------+-----+-------+\n",
      "|         page_url|count|percent|\n",
      "+-----------------+-----+-------+\n",
      "|    homepage.html|   51|  27.72|\n",
      "|product_page.html|   46|   25.0|\n",
      "|    checkout.html|   35|  19.02|\n",
      "|     contact.html|   19|  10.33|\n",
      "|        blog.html|   18|   9.78|\n",
      "|         faq.html|   14|   7.61|\n",
      "|    about_us.html|    1|   0.54|\n",
      "+-----------------+-----+-------+\n",
      "\n"
     ]
    }
   ],
   "source": [
    "website_percents.show()"
   ]
  },
  {
   "cell_type": "code",
   "execution_count": 222,
   "id": "d4c62d3e",
   "metadata": {},
   "outputs": [],
   "source": [
    "# Salvando informações no ware house\n",
    "\n",
    "website_percents.write.format('orc').mode('overwrite').saveAsTable('default.website_percents')"
   ]
  },
  {
   "cell_type": "markdown",
   "id": "698b1edb",
   "metadata": {},
   "source": [
    "### As 3 páginas mais visitadas acumulam um percentual de visitas de mais de 70% de todas as visitações\n",
    "#### -> homepage.html \n",
    "#### -> product_page.html \n",
    "#### -> checkout.html"
   ]
  },
  {
   "cell_type": "markdown",
   "id": "a6e08095",
   "metadata": {},
   "source": [
    "## Calculando a média de duração das sessões dos usuários."
   ]
  },
  {
   "cell_type": "code",
   "execution_count": 218,
   "id": "81c89ed9",
   "metadata": {},
   "outputs": [],
   "source": [
    "website_session_duration_mean = website_clean \\\n",
    "    .groupBy('user_id') \\\n",
    "    .agg(mean('session_duration')) \\\n",
    "    .select('user_id', round('avg(session_duration)', 2).alias('media_session_duration'))"
   ]
  },
  {
   "cell_type": "code",
   "execution_count": 220,
   "id": "20d8f1b3",
   "metadata": {},
   "outputs": [
    {
     "name": "stdout",
     "output_type": "stream",
     "text": [
      "+-------+----------------------+\n",
      "|user_id|media_session_duration|\n",
      "+-------+----------------------+\n",
      "|  10015|                 161.0|\n",
      "|  10007|                152.33|\n",
      "|  10002|                124.33|\n",
      "|  10022|                118.75|\n",
      "|  10013|                114.67|\n",
      "|  10017|                104.33|\n",
      "|  10006|                 99.33|\n",
      "|  10027|                  96.5|\n",
      "|  10009|                 87.67|\n",
      "|  10026|                 82.25|\n",
      "|  10033|                 81.88|\n",
      "|  10035|                  76.0|\n",
      "|  10029|                  70.0|\n",
      "|  10037|                 69.38|\n",
      "|  10039|                 67.88|\n",
      "|  10014|                 62.67|\n",
      "|  10028|                  58.0|\n",
      "|  10034|                 57.88|\n",
      "|  10018|                 57.67|\n",
      "|  10010|                 54.67|\n",
      "|  10031|                 52.63|\n",
      "|  10032|                  52.0|\n",
      "|  10003|                 48.67|\n",
      "|  10024|                  48.0|\n",
      "|  10036|                 46.88|\n",
      "|  10021|                 45.75|\n",
      "|  10038|                  44.0|\n",
      "|  10040|                  43.0|\n",
      "|  10030|                  40.5|\n",
      "|  10023|                 38.25|\n",
      "|  10011|                 37.67|\n",
      "|  10008|                 29.33|\n",
      "|  10019|                  26.0|\n",
      "|  10004|                 24.33|\n",
      "|  10025|                  23.5|\n",
      "|  10016|                 20.67|\n",
      "|  10001|                 19.67|\n",
      "|  10020|                  18.0|\n",
      "|  10012|                 14.33|\n",
      "|  10005|                 14.33|\n",
      "+-------+----------------------+\n",
      "\n"
     ]
    }
   ],
   "source": [
    "website_session_duration_mean.orderBy('media_session_duration', ascending=False).show(100)"
   ]
  },
  {
   "cell_type": "code",
   "execution_count": 221,
   "id": "0479345d",
   "metadata": {},
   "outputs": [
    {
     "data": {
      "text/plain": [
       "40"
      ]
     },
     "execution_count": 221,
     "metadata": {},
     "output_type": "execute_result"
    }
   ],
   "source": [
    "# Quantidade de usuários distintos\n",
    "\n",
    "website_clean.select('user_id').distinct().count()"
   ]
  },
  {
   "cell_type": "code",
   "execution_count": 223,
   "id": "83b7c366",
   "metadata": {},
   "outputs": [],
   "source": [
    "# Salvando informações\n",
    "\n",
    "website_session_duration_mean.write.format('orc').mode('overwrite').saveAsTable('default.website_session_duration_mean')"
   ]
  },
  {
   "cell_type": "markdown",
   "id": "3a74cbea",
   "metadata": {},
   "source": [
    "### São 40 usuários ao todo, a média de duração foi obtida para cada um deles e salva na tabela 'website_session_duration_mean'"
   ]
  },
  {
   "cell_type": "markdown",
   "id": "bb3817ac",
   "metadata": {},
   "source": [
    "## Determinando quantos usuários retornam ao site mais de uma vez por semana."
   ]
  },
  {
   "cell_type": "code",
   "execution_count": 232,
   "id": "117137cf",
   "metadata": {},
   "outputs": [
    {
     "name": "stdout",
     "output_type": "stream",
     "text": [
      "+----------+\n",
      "|      date|\n",
      "+----------+\n",
      "|2023-07-25|\n",
      "|2023-07-26|\n",
      "|2023-07-27|\n",
      "|2023-07-28|\n",
      "|2023-07-29|\n",
      "|2023-07-30|\n",
      "|2023-07-31|\n",
      "|2023-08-01|\n",
      "|2023-08-02|\n",
      "|2023-08-03|\n",
      "|2023-08-04|\n",
      "|2023-08-05|\n",
      "|2023-08-06|\n",
      "|2023-08-07|\n",
      "|2023-08-08|\n",
      "|2023-08-09|\n",
      "|2023-08-10|\n",
      "|2023-08-11|\n",
      "|2023-08-12|\n",
      "|2023-08-13|\n",
      "|2023-08-14|\n",
      "|2023-08-15|\n",
      "|2023-08-16|\n",
      "|2023-08-17|\n",
      "|2023-08-18|\n",
      "|2023-08-19|\n",
      "|2023-08-20|\n",
      "|2023-08-21|\n",
      "|2023-08-22|\n",
      "|2023-08-23|\n",
      "|2023-08-24|\n",
      "|2023-08-25|\n",
      "|2023-08-26|\n",
      "|2023-08-27|\n",
      "|2023-08-28|\n",
      "|2023-08-29|\n",
      "|2023-08-30|\n",
      "|2023-08-31|\n",
      "+----------+\n",
      "\n"
     ]
    }
   ],
   "source": [
    "# Visualizando datas distintas\n",
    "\n",
    "website_clean.select('date').distinct().orderBy('date').show(100)"
   ]
  },
  {
   "cell_type": "code",
   "execution_count": 269,
   "id": "84b0082b",
   "metadata": {},
   "outputs": [],
   "source": [
    "# Determinando dias e semanas\n",
    "\n",
    "tam = len(website_clean.select('date').distinct().orderBy('date').collect())\n",
    "\n",
    "days = [website_clean.select('date').distinct().orderBy('date').collect()[i][0] for i in range(0,tam)]\n",
    "weeks = [days[i] for i in range(0, tam, 7)]"
   ]
  },
  {
   "cell_type": "code",
   "execution_count": 310,
   "id": "306729b3",
   "metadata": {},
   "outputs": [],
   "source": [
    "website_weeks = website_clean \\\n",
    "    .withColumn('num_semana', when(col('date') <= weeks[1], lit(1)) \\\n",
    "               .when((col('date') > weeks[1]) & (col('date') <= weeks[2]), lit(2)) \\\n",
    "               .when((col('date') > weeks[2]) & (col('date') <= weeks[3]), lit(3)) \\\n",
    "               .when((col('date') > weeks[3]) & (col('date') <= weeks[4]), lit(4)) \\\n",
    "               .when((col('date') > weeks[4]) & (col('date') <= weeks[5]), lit(5)) \\\n",
    "               .otherwise(lit(6)))"
   ]
  },
  {
   "cell_type": "code",
   "execution_count": 311,
   "id": "83a41a2c",
   "metadata": {},
   "outputs": [
    {
     "name": "stdout",
     "output_type": "stream",
     "text": [
      "+-------+-----------------+----------------+----------+----------+\n",
      "|user_id|         page_url|session_duration|      date|num_semana|\n",
      "+-------+-----------------+----------------+----------+----------+\n",
      "|  10028|        blog.html|             145|2023-07-31|         1|\n",
      "|  10012|    homepage.html|              12|2023-07-27|         1|\n",
      "|  10008|    homepage.html|              25|2023-07-26|         1|\n",
      "|  10030|     contact.html|              28|2023-08-01|         1|\n",
      "|  10022|product_page.html|              85|2023-07-29|         1|\n",
      "|  10002|product_page.html|             120|2023-07-25|         1|\n",
      "|  10021|product_page.html|              95|2023-07-29|         1|\n",
      "|  10005|    homepage.html|              15|2023-07-31|         1|\n",
      "|  10026|    about_us.html|              34|2023-07-31|         1|\n",
      "|  10002|product_page.html|             130|2023-07-30|         1|\n",
      "|  10001|    homepage.html|              15|2023-07-25|         1|\n",
      "|  10027|     contact.html|              22|2023-07-31|         1|\n",
      "|  10028|         faq.html|              37|2023-08-01|         1|\n",
      "|  10005|    homepage.html|              10|2023-07-25|         1|\n",
      "|  10003|    checkout.html|              50|2023-07-31|         1|\n",
      "|  10025|    homepage.html|              20|2023-07-30|         1|\n",
      "|  10027|    checkout.html|              60|2023-07-31|         1|\n",
      "|  10022|        blog.html|             140|2023-07-29|         1|\n",
      "|  10020|    homepage.html|              15|2023-07-29|         1|\n",
      "|  10014|    checkout.html|              60|2023-07-27|         1|\n",
      "+-------+-----------------+----------------+----------+----------+\n",
      "only showing top 20 rows\n",
      "\n"
     ]
    }
   ],
   "source": [
    "website_weeks.orderBy('num_semana').show()"
   ]
  },
  {
   "cell_type": "markdown",
   "id": "1ecb7863",
   "metadata": {},
   "source": [
    "### Juntando contagens de user_ids por semanas e fazendo a média"
   ]
  },
  {
   "cell_type": "code",
   "execution_count": 340,
   "id": "6af80938",
   "metadata": {},
   "outputs": [],
   "source": [
    "dfs = [website_weeks.where(col('num_semana') == i+1).groupBy('user_id') \\\n",
    "       .count().select('user_id', col('count').alias('count_semana_' + str(i+1))) \n",
    "       for i in range(0, len(weeks))]\n",
    "\n",
    "website_freq_semanas = reduce(lambda x, y: x.join(y, 'user_id', 'full'), dfs).fillna(0)"
   ]
  },
  {
   "cell_type": "markdown",
   "id": "fd13590b",
   "metadata": {},
   "source": [
    "### Contagem de visitas em cada semana para cada user_id"
   ]
  },
  {
   "cell_type": "code",
   "execution_count": 341,
   "id": "dd117529",
   "metadata": {},
   "outputs": [
    {
     "name": "stdout",
     "output_type": "stream",
     "text": [
      "+-------+--------------+--------------+--------------+--------------+--------------+--------------+\n",
      "|user_id|count_semana_1|count_semana_2|count_semana_3|count_semana_4|count_semana_5|count_semana_6|\n",
      "+-------+--------------+--------------+--------------+--------------+--------------+--------------+\n",
      "|  10001|             2|             1|             0|             0|             0|             0|\n",
      "|  10002|             2|             1|             0|             0|             0|             0|\n",
      "|  10003|             2|             0|             1|             0|             0|             0|\n",
      "|  10004|             2|             0|             1|             0|             0|             0|\n",
      "|  10005|             2|             0|             1|             0|             0|             0|\n",
      "|  10006|             2|             0|             1|             0|             0|             0|\n",
      "|  10007|             2|             0|             1|             0|             0|             0|\n",
      "|  10008|             2|             0|             1|             0|             0|             0|\n",
      "|  10009|             1|             1|             1|             0|             0|             0|\n",
      "|  10010|             1|             1|             0|             1|             0|             0|\n",
      "|  10011|             1|             1|             0|             1|             0|             0|\n",
      "|  10012|             1|             1|             0|             1|             0|             0|\n",
      "|  10013|             1|             1|             0|             1|             0|             0|\n",
      "|  10014|             1|             1|             0|             1|             0|             0|\n",
      "|  10015|             1|             1|             0|             1|             0|             0|\n",
      "|  10016|             1|             1|             0|             1|             0|             0|\n",
      "|  10017|             1|             1|             0|             0|             1|             0|\n",
      "|  10018|             1|             1|             0|             0|             1|             0|\n",
      "|  10019|             1|             1|             0|             0|             1|             0|\n",
      "|  10020|             1|             1|             0|             0|             1|             0|\n",
      "|  10021|             2|             1|             0|             1|             0|             0|\n",
      "|  10022|             2|             1|             0|             1|             0|             0|\n",
      "|  10023|             2|             1|             0|             1|             0|             0|\n",
      "|  10024|             2|             1|             0|             1|             0|             0|\n",
      "|  10025|             2|             0|             1|             1|             0|             0|\n",
      "|  10026|             2|             0|             1|             1|             0|             0|\n",
      "|  10027|             2|             0|             1|             1|             0|             0|\n",
      "|  10028|             2|             0|             1|             1|             0|             0|\n",
      "|  10029|             2|             0|             1|             0|             1|             0|\n",
      "|  10030|             2|             2|             3|             0|             1|             0|\n",
      "|  10031|             0|             4|             3|             0|             1|             0|\n",
      "|  10032|             0|             4|             3|             0|             1|             0|\n",
      "|  10033|             0|             4|             1|             2|             1|             0|\n",
      "|  10034|             0|             4|             1|             2|             1|             0|\n",
      "|  10035|             0|             2|             3|             2|             1|             0|\n",
      "|  10036|             0|             2|             3|             1|             2|             0|\n",
      "|  10037|             0|             0|             5|             0|             3|             0|\n",
      "|  10038|             0|             0|             5|             0|             3|             0|\n",
      "|  10039|             0|             0|             4|             1|             2|             1|\n",
      "|  10040|             0|             0|             4|             1|             0|             3|\n",
      "+-------+--------------+--------------+--------------+--------------+--------------+--------------+\n",
      "\n"
     ]
    }
   ],
   "source": [
    "website_freq_semanas.show(40)"
   ]
  },
  {
   "cell_type": "markdown",
   "id": "c0ef2046",
   "metadata": {},
   "source": [
    "### Quantidade de user_ids que visitaram mais de 1 vez o site em ao menos 1 semana dentro do período estudado"
   ]
  },
  {
   "cell_type": "code",
   "execution_count": 373,
   "id": "230c082a",
   "metadata": {},
   "outputs": [
    {
     "data": {
      "text/plain": [
       "28"
      ]
     },
     "execution_count": 373,
     "metadata": {},
     "output_type": "execute_result"
    }
   ],
   "source": [
    "website_freq_semanas.where((col('count_semana_1') > 1) |\n",
    "                          (col('count_semana_2') > 1) |\n",
    "                          (col('count_semana_3') > 1) |\n",
    "                          (col('count_semana_4') > 1) |\n",
    "                          (col('count_semana_5') > 1) |\n",
    "                          (col('count_semana_6') > 1)).count()"
   ]
  },
  {
   "cell_type": "markdown",
   "id": "908769a7",
   "metadata": {},
   "source": [
    "### Quantidade de user_ids que visitaram mais de 1 vez, NA MÉDIA, de todas as semanas estudadas no período"
   ]
  },
  {
   "cell_type": "code",
   "execution_count": 368,
   "id": "823e4b12",
   "metadata": {},
   "outputs": [],
   "source": [
    "website_freq_todas_semanas = website_freq_semanas \\\n",
    "    .select('user_id', ((col('count_semana_1') + col('count_semana_2') + col('count_semana_3')\n",
    "                        + col('count_semana_4') + col('count_semana_5') \n",
    "                         + col('count_semana_6'))/len(weeks)).alias('media_semanas'))"
   ]
  },
  {
   "cell_type": "code",
   "execution_count": 369,
   "id": "a7615817",
   "metadata": {},
   "outputs": [
    {
     "name": "stdout",
     "output_type": "stream",
     "text": [
      "+-------+------------------+\n",
      "|user_id|     media_semanas|\n",
      "+-------+------------------+\n",
      "|  10030|1.3333333333333333|\n",
      "|  10031|1.3333333333333333|\n",
      "|  10040|1.3333333333333333|\n",
      "|  10035|1.3333333333333333|\n",
      "|  10032|1.3333333333333333|\n",
      "|  10036|1.3333333333333333|\n",
      "|  10037|1.3333333333333333|\n",
      "|  10033|1.3333333333333333|\n",
      "|  10038|1.3333333333333333|\n",
      "|  10039|1.3333333333333333|\n",
      "|  10034|1.3333333333333333|\n",
      "|  10021|0.6666666666666666|\n",
      "|  10022|0.6666666666666666|\n",
      "|  10026|0.6666666666666666|\n",
      "|  10025|0.6666666666666666|\n",
      "|  10023|0.6666666666666666|\n",
      "|  10027|0.6666666666666666|\n",
      "|  10029|0.6666666666666666|\n",
      "|  10024|0.6666666666666666|\n",
      "|  10028|0.6666666666666666|\n",
      "+-------+------------------+\n",
      "only showing top 20 rows\n",
      "\n"
     ]
    }
   ],
   "source": [
    "website_freq_todas_semanas.orderBy('media_semanas', ascending=False).show()"
   ]
  },
  {
   "cell_type": "code",
   "execution_count": 372,
   "id": "0660dc98",
   "metadata": {},
   "outputs": [
    {
     "data": {
      "text/plain": [
       "11"
      ]
     },
     "execution_count": 372,
     "metadata": {},
     "output_type": "execute_result"
    }
   ],
   "source": [
    "website_freq_todas_semanas.where(col('media_semanas') > 1).count()"
   ]
  },
  {
   "cell_type": "markdown",
   "id": "7f9b58f1",
   "metadata": {},
   "source": [
    "### Apenas 11 user_ids possuem uma frequência maior que 1 visita por semana, durante todo o período estudado"
   ]
  },
  {
   "cell_type": "code",
   "execution_count": 374,
   "id": "dc9e4b6c",
   "metadata": {},
   "outputs": [],
   "source": [
    "# Salvando informações\n",
    "\n",
    "website_freq_semanas.write.format('orc').mode('overwrite').saveAsTable('default.website_freq_semanas')\n",
    "website_freq_todas_semanas.write.format('orc').mode('overwrite').saveAsTable('default.website_freq_todas_semanas')"
   ]
  },
  {
   "cell_type": "markdown",
   "id": "b664c64d",
   "metadata": {},
   "source": [
    "# Conclusões\n",
    "\n",
    "### Informações sobre frequências de acesso ao site e duração de sessões foram obtidas\n",
    "### Contagens realizadas\n",
    "### Database criado com as informações dos CSVs, tabelas salvas."
   ]
  }
 ],
 "metadata": {
  "kernelspec": {
   "display_name": "Python 3 (ipykernel)",
   "language": "python",
   "name": "python3"
  },
  "language_info": {
   "codemirror_mode": {
    "name": "ipython",
    "version": 3
   },
   "file_extension": ".py",
   "mimetype": "text/x-python",
   "name": "python",
   "nbconvert_exporter": "python",
   "pygments_lexer": "ipython3",
   "version": "3.11.3"
  }
 },
 "nbformat": 4,
 "nbformat_minor": 5
}
