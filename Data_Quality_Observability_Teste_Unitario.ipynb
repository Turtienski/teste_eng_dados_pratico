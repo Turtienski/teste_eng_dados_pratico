{
 "cells": [
  {
   "cell_type": "markdown",
   "id": "9b0168e8",
   "metadata": {},
   "source": [
    "# Sessão Spark"
   ]
  },
  {
   "cell_type": "code",
   "execution_count": 1,
   "id": "57f9d0ac",
   "metadata": {},
   "outputs": [],
   "source": [
    "import findspark\n",
    "import os\n",
    "\n",
    "findspark.init()\n",
    "\n",
    "from pyspark.sql import SparkSession\n",
    "spark = SparkSession \\\n",
    "    .builder \\\n",
    "    .appName(\"Spark csv schema inference\") \\\n",
    "    .config(\"spark.sql.warehouse.dir\") \\\n",
    "    .enableHiveSupport() \\\n",
    "    .getOrCreate()"
   ]
  },
  {
   "cell_type": "markdown",
   "id": "71410868",
   "metadata": {},
   "source": [
    "## Imports"
   ]
  },
  {
   "cell_type": "code",
   "execution_count": 128,
   "id": "9f3f19e9",
   "metadata": {},
   "outputs": [],
   "source": [
    "from pyspark.sql.functions import *\n",
    "import pandas as pd\n",
    "import sqlite3\n",
    "import time\n",
    "import pytest\n",
    "from unittest.mock import MagicMock"
   ]
  },
  {
   "cell_type": "markdown",
   "id": "94f8091a",
   "metadata": {},
   "source": [
    "## Parâmetros do notebook"
   ]
  },
  {
   "cell_type": "code",
   "execution_count": 3,
   "id": "5b9f8889",
   "metadata": {},
   "outputs": [],
   "source": [
    "# Caminho dos CSVs\n",
    "sales_data_path = 'data/sales_data.csv'"
   ]
  },
  {
   "cell_type": "markdown",
   "id": "70a29ead",
   "metadata": {},
   "source": [
    "## Carregando dados"
   ]
  },
  {
   "cell_type": "code",
   "execution_count": 4,
   "id": "0e5fe484",
   "metadata": {},
   "outputs": [],
   "source": [
    "sales = spark.read.csv(sales_data_path, sep = ',', header = True)"
   ]
  },
  {
   "cell_type": "markdown",
   "id": "52faae54",
   "metadata": {},
   "source": [
    "# Verificando se todos os IDs de usuários são únicos"
   ]
  },
  {
   "cell_type": "code",
   "execution_count": 6,
   "id": "0c8d7f2c",
   "metadata": {},
   "outputs": [
    {
     "name": "stdout",
     "output_type": "stream",
     "text": [
      "+---------------------+------------------------------+\n",
      "|count(transaction_id)|count(DISTINCT transaction_id)|\n",
      "+---------------------+------------------------------+\n",
      "|                   40|                            40|\n",
      "+---------------------+------------------------------+\n",
      "\n"
     ]
    }
   ],
   "source": [
    "sales.select(count('transaction_id'), countDistinct('transaction_id')).show()"
   ]
  },
  {
   "cell_type": "markdown",
   "id": "42e62519",
   "metadata": {},
   "source": [
    "### transaction_id único, verificado que há 40 IDs na tabela sales e todos são distintos"
   ]
  },
  {
   "cell_type": "markdown",
   "id": "af45a3b2",
   "metadata": {},
   "source": [
    "## Confirmando se os valores de vendas não são negativos"
   ]
  },
  {
   "cell_type": "code",
   "execution_count": 11,
   "id": "6825e87e",
   "metadata": {},
   "outputs": [
    {
     "data": {
      "text/plain": [
       "0"
      ]
     },
     "execution_count": 11,
     "metadata": {},
     "output_type": "execute_result"
    }
   ],
   "source": [
    "sales.select('sale_value').where(col('sale_value') <= 0).count()"
   ]
  },
  {
   "cell_type": "markdown",
   "id": "b6ac484f",
   "metadata": {},
   "source": [
    "### Não há nenhum valor de venda negativo"
   ]
  },
  {
   "cell_type": "markdown",
   "id": "b0e55838",
   "metadata": {},
   "source": [
    "## Garantindo que todas as entradas tenham timestamps válidos"
   ]
  },
  {
   "cell_type": "code",
   "execution_count": 18,
   "id": "8b4d4dcb",
   "metadata": {},
   "outputs": [
    {
     "name": "stdout",
     "output_type": "stream",
     "text": [
      "root\n",
      " |-- date: date (nullable = true)\n",
      "\n"
     ]
    }
   ],
   "source": [
    "sales.select(col('date').cast('date')).distinct().printSchema()"
   ]
  },
  {
   "cell_type": "code",
   "execution_count": 19,
   "id": "506c6ff1",
   "metadata": {},
   "outputs": [
    {
     "name": "stdout",
     "output_type": "stream",
     "text": [
      "+----------+\n",
      "|      date|\n",
      "+----------+\n",
      "|2023-07-29|\n",
      "|2023-08-03|\n",
      "|2023-07-31|\n",
      "|2023-07-28|\n",
      "|2023-08-01|\n",
      "|2023-07-25|\n",
      "|2023-07-30|\n",
      "|2023-07-26|\n",
      "|2023-07-27|\n",
      "|2023-08-02|\n",
      "+----------+\n",
      "\n"
     ]
    }
   ],
   "source": [
    "sales.select(col('date').cast('date')).distinct().show()"
   ]
  },
  {
   "cell_type": "code",
   "execution_count": 20,
   "id": "9d08a8ce",
   "metadata": {},
   "outputs": [
    {
     "name": "stdout",
     "output_type": "stream",
     "text": [
      "+----+\n",
      "|date|\n",
      "+----+\n",
      "+----+\n",
      "\n"
     ]
    }
   ],
   "source": [
    "sales.select(col('date').cast('date')).distinct().where(isnull(col('date'))).show()"
   ]
  },
  {
   "cell_type": "markdown",
   "id": "17f03dc0",
   "metadata": {},
   "source": [
    "### Não há datas nulas ou inválidas"
   ]
  },
  {
   "cell_type": "markdown",
   "id": "460f409b",
   "metadata": {},
   "source": [
    "## Quantidade de linhas ingeridas no banco de dados de sua escolha é igual a quantidade de linhas originais"
   ]
  },
  {
   "cell_type": "code",
   "execution_count": 38,
   "id": "eefedd47",
   "metadata": {},
   "outputs": [],
   "source": [
    "conexao = sqlite3.connect('itau.db')"
   ]
  },
  {
   "cell_type": "code",
   "execution_count": 23,
   "id": "74f8f41a",
   "metadata": {},
   "outputs": [
    {
     "data": {
      "text/html": [
       "<div>\n",
       "<style scoped>\n",
       "    .dataframe tbody tr th:only-of-type {\n",
       "        vertical-align: middle;\n",
       "    }\n",
       "\n",
       "    .dataframe tbody tr th {\n",
       "        vertical-align: top;\n",
       "    }\n",
       "\n",
       "    .dataframe thead th {\n",
       "        text-align: right;\n",
       "    }\n",
       "</style>\n",
       "<table border=\"1\" class=\"dataframe\">\n",
       "  <thead>\n",
       "    <tr style=\"text-align: right;\">\n",
       "      <th></th>\n",
       "      <th>count(*)</th>\n",
       "    </tr>\n",
       "  </thead>\n",
       "  <tbody>\n",
       "    <tr>\n",
       "      <th>0</th>\n",
       "      <td>40</td>\n",
       "    </tr>\n",
       "  </tbody>\n",
       "</table>\n",
       "</div>"
      ],
      "text/plain": [
       "   count(*)\n",
       "0        40"
      ]
     },
     "metadata": {},
     "output_type": "display_data"
    }
   ],
   "source": [
    "rows = conexao.execute('select count(*) from tb_sales_data')\n",
    "columns = [col[0] for col in rows.description]\n",
    "info = pd.DataFrame(rows.fetchall(), columns=columns)\n",
    "display(info)"
   ]
  },
  {
   "cell_type": "code",
   "execution_count": 24,
   "id": "c0483bf4",
   "metadata": {},
   "outputs": [
    {
     "data": {
      "text/plain": [
       "40"
      ]
     },
     "execution_count": 24,
     "metadata": {},
     "output_type": "execute_result"
    }
   ],
   "source": [
    "sales.count()"
   ]
  },
  {
   "cell_type": "code",
   "execution_count": 25,
   "id": "15ba06fd",
   "metadata": {},
   "outputs": [],
   "source": [
    "conexao.close()"
   ]
  },
  {
   "cell_type": "markdown",
   "id": "6205d277",
   "metadata": {},
   "source": [
    "### Como é possível verificar, há 40 linhas no itau.db e 40 no CSV carregado, ambas com as mesmas informações, sales_data"
   ]
  },
  {
   "cell_type": "markdown",
   "id": "b5d59b0d",
   "metadata": {},
   "source": [
    "## Monitoramento do tempo que leva para os dados serem extraídos, transformados e carregados"
   ]
  },
  {
   "cell_type": "code",
   "execution_count": 36,
   "id": "38863b46",
   "metadata": {},
   "outputs": [
    {
     "name": "stdout",
     "output_type": "stream",
     "text": [
      "Extraction time:  0.08404183387756348\n",
      "Cleaning time:  0.0020034313201904297\n",
      "Transforming time:  0.02193617820739746\n",
      "Loading time:  2.1966471672058105\n",
      "Total time:  2.304628610610962\n"
     ]
    }
   ],
   "source": [
    "# Extração\n",
    "inicio1 = time.time()\n",
    "sales = spark.read.csv(sales_data_path, sep = ',', header = True)\n",
    "fim1 = time.time()\n",
    "print(\"Extraction time: \", fim1 - inicio1)\n",
    "\n",
    "# Limpando\n",
    "inicio2 = time.time()\n",
    "sales_clean = sales.distinct()\n",
    "fim2 = time.time()\n",
    "print(\"Cleaning time: \", fim2 - inicio2)\n",
    "\n",
    "# Transformando\n",
    "inicio3 = time.time()\n",
    "sales_converted = sales_clean\\\n",
    "    .withColumn('sale_value', when(col('currency') == 'FICT', col('sale_value') * 0.75))\\\n",
    "    .withColumn('currency', when(col('currency') == 'FICT', lit('USD')))\n",
    "fim3 = time.time()\n",
    "print(\"Transforming time: \", fim3 - inicio3)\n",
    "\n",
    "# Carregando\n",
    "inicio4 = time.time()\n",
    "sales_pd = sales_converted.toPandas()\n",
    "conexao = sqlite3.connect('itau.db')\n",
    "sales_pd.to_sql('tb_sales_data', conexao, if_exists='replace')\n",
    "conexao.close()\n",
    "fim4 = time.time()\n",
    "print(\"Loading time: \", fim4 - inicio4)\n",
    "\n",
    "# Tempo total\n",
    "delta_time = (fim1 - inicio1) + (fim2 - inicio2) + (fim3 - inicio3) + (fim4 - inicio4)\n",
    "print(\"Total time: \", delta_time)"
   ]
  },
  {
   "cell_type": "markdown",
   "id": "c2bd09a8",
   "metadata": {},
   "source": [
    "## Implementando alertas para qualquer falha ou anomalia durante o processo ETL."
   ]
  },
  {
   "cell_type": "markdown",
   "id": "67674efc",
   "metadata": {},
   "source": [
    "#### Para o primeiro alerta, a verificação é em cima da contagem de linhas na extração e no carregamento\n",
    "#### O segundo ponto a se verificar é a quantidade de nulos\n",
    "#### Por fim, verificar o tempo de execução pode ser importante para detectar gargalos de processamento"
   ]
  },
  {
   "cell_type": "code",
   "execution_count": 114,
   "id": "06625d80",
   "metadata": {},
   "outputs": [],
   "source": [
    "def verifica_tb_extract(df_extracted, df_loaded):\n",
    "    aproved = 0\n",
    "    # Primeiro, contagens\n",
    "    if len(df_extracted.index) == len(df_loaded.index):\n",
    "        print('Contagens iguais: ', len(df_extracted.index))\n",
    "        aproved += 1\n",
    "    else:\n",
    "        print('Alerta! Contagens não batem, extracted: ', len(df_extracted.index), 'loaded: ', len(df_loaded.index))\n",
    "    \n",
    "    # Verificando se a quantidade de nulos, em cada coluna, bate\n",
    "    if (df_extracted.isna().sum() == df_loaded.isna().sum()).sum()/len(df_extracted.columns) == 1.0:\n",
    "        print(\"Quantidades de nulo iguais: \\n\", df_extracted.isna().sum())\n",
    "        aproved += 1\n",
    "    else:\n",
    "        print(\"Quantidades de nulo desiguais! Verifique as colunas: \\n\", \n",
    "              (df_extracted.isna().sum() == df_loaded.isna().sum()))\n",
    "    \n",
    "    return True if aproved == 2 else False"
   ]
  },
  {
   "cell_type": "code",
   "execution_count": 111,
   "id": "c1f9a86c",
   "metadata": {},
   "outputs": [],
   "source": [
    "# Loaded\n",
    "conexao = sqlite3.connect('itau.db')\n",
    "rows = conexao.execute('select * from tb_sales_data')\n",
    "columns = [col[0] for col in rows.description]\n",
    "df_loaded = pd.DataFrame(rows.fetchall(), columns=columns).drop('index', axis=1)\n",
    "conexao.close()\n",
    "\n",
    "# Extracted\n",
    "df_extracted = pd.read_csv(sales_data_path, sep = ',')"
   ]
  },
  {
   "cell_type": "code",
   "execution_count": 115,
   "id": "0af42f0c",
   "metadata": {},
   "outputs": [
    {
     "name": "stdout",
     "output_type": "stream",
     "text": [
      "Contagens iguais:  40\n",
      "Quantidades de nulo iguais: \n",
      " transaction_id    0\n",
      "date              0\n",
      "product_id        0\n",
      "seller_id         0\n",
      "sale_value        0\n",
      "currency          0\n",
      "dtype: int64\n"
     ]
    },
    {
     "data": {
      "text/plain": [
       "True"
      ]
     },
     "execution_count": 115,
     "metadata": {},
     "output_type": "execute_result"
    }
   ],
   "source": [
    "verifica_tb_extract(df_extracted, df_loaded)"
   ]
  },
  {
   "cell_type": "markdown",
   "id": "80e03eba",
   "metadata": {},
   "source": [
    "### A função construída verifica se a contagem de linhas e nulos coincide e retorna verdadeiro ou falso para aprovar o processo"
   ]
  },
  {
   "cell_type": "markdown",
   "id": "35aa9af1",
   "metadata": {},
   "source": [
    "## Descreva como você rastrearia um problema no pipeline, desde o alerta até a fonte do problema:"
   ]
  },
  {
   "cell_type": "markdown",
   "id": "4373f8e9",
   "metadata": {},
   "source": [
    "#### Meu primeiro passo seria verificar todas as contagens, em seguida os tipos de dados e a possibilidade disso intervir em alguma etapa do processo.\n",
    "#### Verificado o passo anterior, caso haja uma inconsistência nos dados e/ou tipo de dados, eu verificaria um teste unitário até encontrar alguma inconsistência\n",
    "#### Dependendo da natureza do problema, caso seja problema com processamento de dados que estão excedendo a capacidade do sistema, seria necessário averiguar cada etapa da pipeline a fim de encontrar o gargalo, a parte do processo onde está consumindo mais recursos, e dividí-la em mais etapas, utilizando a ideia de dividir para conquistar."
   ]
  },
  {
   "cell_type": "markdown",
   "id": "6ffe4ecc",
   "metadata": {},
   "source": [
    "# Teste Unitário"
   ]
  },
  {
   "cell_type": "markdown",
   "id": "9ed7ad40",
   "metadata": {},
   "source": [
    "### O teste unitário será realizado de forma sucinta utilizando a função 'verifica_tb_extract', aproveitando a função escrita anteriormente"
   ]
  },
  {
   "cell_type": "raw",
   "id": "34de0fb0",
   "metadata": {},
   "source": [
    "# Para o teste serão utilizados alguns data frames Pandas\n",
    "df1 = pd.DataFrame({'A': [1, 2, 3], 'B': [2, 3, 5], 'C': [5, 7, 9]}) # Iguais e sem nulos happy path\n",
    "df2 = pd.DataFrame({'A': [1, 2, 3], 'B': [2, 3, 5], 'C': [5, 7, 9]}) # Iguais e sem nulos happy path\n",
    "df3 = pd.DataFrame({'A': [1, None, 3], 'B': [2, 3, None], 'C': [None, 7, 9]}) # Apresenta nulos, mesmo número de linhas (borda)\n",
    "df4 = pd.DataFrame({'A': [1, None, 3], 'B': [2, 3, None], 'C': [None, 7, 9]}) # Apresenta nulos, mesmo número de linhas (borda)\n",
    "df5 = pd.DataFrame({'A': [1, 2], 'B': [2, 3], 'C': [5, 7]}) # Diferente quantidade de linhas (Erro!)\n",
    "df6 = pd.DataFrame({'A': [1, 2, 3], 'B': [2, 3, 5], 'C': [5, 7, 9]}) # Diferente quantidade de linhas (Erro!)\n",
    "df7 = pd.DataFrame({'A': [1, 2, None], 'B': [2, 3, None], 'C': [5, 7, None]}) # Diferente quantidade de nulo, mesmo número de linhas (Erro!)\n",
    "df8 = pd.DataFrame({'A': [1, 2, 3], 'B': [2, 3, 5], 'C': [5, 7, 9]}) # Diferente quantidade de nulo, mesmo número de linhas (Erro!)"
   ]
  },
  {
   "cell_type": "markdown",
   "id": "e4b0d2ea",
   "metadata": {},
   "source": [
    "## O arquivo do teste encontra-se na pasta e é denominado 'test_func.py'"
   ]
  },
  {
   "cell_type": "markdown",
   "id": "ce01a79f",
   "metadata": {},
   "source": [
    "### A seguir, serão realizadas uma sequência de testes, mudando os data frames de testes a serem testados diretamente no código, em seguida, os resultados serão comentados!"
   ]
  },
  {
   "cell_type": "markdown",
   "id": "d01162fa",
   "metadata": {},
   "source": [
    "#### Happy path"
   ]
  },
  {
   "cell_type": "code",
   "execution_count": 144,
   "id": "f68718cf",
   "metadata": {},
   "outputs": [
    {
     "name": "stdout",
     "output_type": "stream",
     "text": [
      "\u001b[1m============================= test session starts =============================\u001b[0m\n",
      "platform win32 -- Python 3.11.3, pytest-7.3.1, pluggy-1.0.0\n",
      "rootdir: D:\\arquivos\\Documentos-HD\\Scripts\\Jupyter\\teste_eng_dados_itau\n",
      "plugins: anyio-3.5.0\n",
      "collected 1 item\n",
      "\n",
      "test_func.py \u001b[32m.\u001b[0m\u001b[32m                                                           [100%]\u001b[0m\n",
      "\n",
      "\u001b[32m============================== \u001b[32m\u001b[1m1 passed\u001b[0m\u001b[32m in 0.80s\u001b[0m\u001b[32m ==============================\u001b[0m\n"
     ]
    }
   ],
   "source": [
    "!pytest"
   ]
  },
  {
   "cell_type": "markdown",
   "id": "9b6b3db9",
   "metadata": {},
   "source": [
    "#### Com Nulos, porém mesmas quantidades de linhas e nulos, esperado que dê certo"
   ]
  },
  {
   "cell_type": "code",
   "execution_count": 148,
   "id": "25836918",
   "metadata": {},
   "outputs": [
    {
     "name": "stdout",
     "output_type": "stream",
     "text": [
      "\u001b[1m============================= test session starts =============================\u001b[0m\n",
      "platform win32 -- Python 3.11.3, pytest-7.3.1, pluggy-1.0.0\n",
      "rootdir: D:\\arquivos\\Documentos-HD\\Scripts\\Jupyter\\teste_eng_dados_itau\n",
      "plugins: anyio-3.5.0\n",
      "collected 1 item\n",
      "\n",
      "test_func.py \u001b[32m.\u001b[0m\u001b[32m                                                           [100%]\u001b[0m\n",
      "\n",
      "\u001b[32m============================== \u001b[32m\u001b[1m1 passed\u001b[0m\u001b[32m in 0.79s\u001b[0m\u001b[32m ==============================\u001b[0m\n"
     ]
    }
   ],
   "source": [
    "!pytest "
   ]
  },
  {
   "cell_type": "markdown",
   "id": "5cc9141b",
   "metadata": {},
   "source": [
    "#### Diferente quantidade de linhas (Erro!)"
   ]
  },
  {
   "cell_type": "code",
   "execution_count": 149,
   "id": "d24bd66f",
   "metadata": {},
   "outputs": [
    {
     "name": "stdout",
     "output_type": "stream",
     "text": [
      "\u001b[1m============================= test session starts =============================\u001b[0m\n",
      "platform win32 -- Python 3.11.3, pytest-7.3.1, pluggy-1.0.0\n",
      "rootdir: D:\\arquivos\\Documentos-HD\\Scripts\\Jupyter\\teste_eng_dados_itau\n",
      "plugins: anyio-3.5.0\n",
      "collected 1 item\n",
      "\n",
      "test_func.py \u001b[31mF\u001b[0m\u001b[31m                                                           [100%]\u001b[0m\n",
      "\n",
      "================================== FAILURES ===================================\n",
      "\u001b[31m\u001b[1m__________________________ test_verifica_tb_extract ___________________________\u001b[0m\n",
      "\n",
      "    \u001b[94mdef\u001b[39;49;00m \u001b[92mtest_verifica_tb_extract\u001b[39;49;00m():\u001b[90m\u001b[39;49;00m\n",
      "        actual_result = verifica_tb_extract(df5, df6)\u001b[90m\u001b[39;49;00m\n",
      ">       \u001b[94massert\u001b[39;49;00m actual_result == \u001b[94mTrue\u001b[39;49;00m\u001b[90m\u001b[39;49;00m\n",
      "\u001b[1m\u001b[31mE       assert False == True\u001b[0m\n",
      "\n",
      "\u001b[1m\u001b[31mtest_func.py\u001b[0m:37: AssertionError\n",
      "---------------------------- Captured stdout call -----------------------------\n",
      "Alerta! Contagens não batem, extracted:  2 loaded:  3\n",
      "Quantidades de nulo iguais: \n",
      " A    0\n",
      "B    0\n",
      "C    0\n",
      "dtype: int64\n",
      "\u001b[36m\u001b[1m=========================== short test summary info ===========================\u001b[0m\n",
      "\u001b[31mFAILED\u001b[0m test_func.py::\u001b[1mtest_verifica_tb_extract\u001b[0m - assert False == True\n",
      "\u001b[31m============================== \u001b[31m\u001b[1m1 failed\u001b[0m\u001b[31m in 1.09s\u001b[0m\u001b[31m ==============================\u001b[0m\n"
     ]
    }
   ],
   "source": [
    "!pytest "
   ]
  },
  {
   "cell_type": "markdown",
   "id": "18637d7e",
   "metadata": {},
   "source": [
    "#### Diferente quantidade de nulo, mesmo número de linhas (Erro!)"
   ]
  },
  {
   "cell_type": "code",
   "execution_count": 150,
   "id": "a2738185",
   "metadata": {},
   "outputs": [
    {
     "name": "stdout",
     "output_type": "stream",
     "text": [
      "\u001b[1m============================= test session starts =============================\u001b[0m\n",
      "platform win32 -- Python 3.11.3, pytest-7.3.1, pluggy-1.0.0\n",
      "rootdir: D:\\arquivos\\Documentos-HD\\Scripts\\Jupyter\\teste_eng_dados_itau\n",
      "plugins: anyio-3.5.0\n",
      "collected 1 item\n",
      "\n",
      "test_func.py \u001b[31mF\u001b[0m\u001b[31m                                                           [100%]\u001b[0m\n",
      "\n",
      "================================== FAILURES ===================================\n",
      "\u001b[31m\u001b[1m__________________________ test_verifica_tb_extract ___________________________\u001b[0m\n",
      "\n",
      "    \u001b[94mdef\u001b[39;49;00m \u001b[92mtest_verifica_tb_extract\u001b[39;49;00m():\u001b[90m\u001b[39;49;00m\n",
      "        actual_result = verifica_tb_extract(df7, df8)\u001b[90m\u001b[39;49;00m\n",
      ">       \u001b[94massert\u001b[39;49;00m actual_result == \u001b[94mTrue\u001b[39;49;00m\u001b[90m\u001b[39;49;00m\n",
      "\u001b[1m\u001b[31mE       assert False == True\u001b[0m\n",
      "\n",
      "\u001b[1m\u001b[31mtest_func.py\u001b[0m:37: AssertionError\n",
      "---------------------------- Captured stdout call -----------------------------\n",
      "Contagens iguais:  3\n",
      "Quantidades de nulo desiguais! Verifique as colunas: \n",
      " A    False\n",
      "B    False\n",
      "C    False\n",
      "dtype: bool\n",
      "\u001b[36m\u001b[1m=========================== short test summary info ===========================\u001b[0m\n",
      "\u001b[31mFAILED\u001b[0m test_func.py::\u001b[1mtest_verifica_tb_extract\u001b[0m - assert False == True\n",
      "\u001b[31m============================== \u001b[31m\u001b[1m1 failed\u001b[0m\u001b[31m in 1.73s\u001b[0m\u001b[31m ==============================\u001b[0m\n"
     ]
    }
   ],
   "source": [
    "!pytest "
   ]
  },
  {
   "cell_type": "markdown",
   "id": "916e464a",
   "metadata": {},
   "source": [
    "# Conclusões"
   ]
  },
  {
   "cell_type": "markdown",
   "id": "e63d11a5",
   "metadata": {},
   "source": [
    "### Realizado o teste unitário, utilizando o pytest e um script simples dentro da pasta, podemos observar que:\n",
    "\n",
    "#### -> O Teste foi bem sucedido em encontrar as falhas previstas e aprovar os resultados corretos\n",
    "#### -> A função é simples, ela apenas verifica quantidades de nulos e linhas entre os DFs, porém, ela indica de maneira satisfatória se houve algum problema na extração, transformação e carregamento dos dados ao BD itau.db simulado"
   ]
  }
 ],
 "metadata": {
  "kernelspec": {
   "display_name": "Python 3 (ipykernel)",
   "language": "python",
   "name": "python3"
  },
  "language_info": {
   "codemirror_mode": {
    "name": "ipython",
    "version": 3
   },
   "file_extension": ".py",
   "mimetype": "text/x-python",
   "name": "python",
   "nbconvert_exporter": "python",
   "pygments_lexer": "ipython3",
   "version": "3.11.3"
  }
 },
 "nbformat": 4,
 "nbformat_minor": 5
}
