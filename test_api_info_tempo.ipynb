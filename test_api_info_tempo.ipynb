{
 "cells": [
  {
   "cell_type": "markdown",
   "id": "0f0d17a9",
   "metadata": {},
   "source": [
    "# Imports"
   ]
  },
  {
   "cell_type": "code",
   "execution_count": 1,
   "id": "11e34be1",
   "metadata": {},
   "outputs": [],
   "source": [
    "import requests\n",
    "import pandas as pd\n",
    "from datetime import datetime\n",
    "import json\n",
    "import sqlite3"
   ]
  },
  {
   "cell_type": "markdown",
   "id": "f1a6f9cc",
   "metadata": {},
   "source": [
    "# Função Lambda para realizar requisições"
   ]
  },
  {
   "cell_type": "code",
   "execution_count": 62,
   "id": "cf46a242",
   "metadata": {},
   "outputs": [],
   "source": [
    "def lambda_handler(api_key, cidade):\n",
    "    link = f'https://api.openweathermap.org/data/2.5/weather?q={cidade}&appid={api_key}'\n",
    "    \n",
    "    # Requisição\n",
    "    requisicao = requests.get(link)\n",
    "    \n",
    "    # Retornando json de tempo\n",
    "    return {\n",
    "        'statusCode': requests.get(link).json()['cod'],\n",
    "        'body': json.dumps(requisicao.json())\n",
    "    }"
   ]
  },
  {
   "cell_type": "markdown",
   "id": "5fc12a8e",
   "metadata": {},
   "source": [
    "# Parâmetros"
   ]
  },
  {
   "cell_type": "code",
   "execution_count": 30,
   "id": "029d5163",
   "metadata": {},
   "outputs": [],
   "source": [
    "# Credenciais\n",
    "api_key = '1a0925695880013271c26100e80f7e3d'\n",
    "cidade = 'santo andre'"
   ]
  },
  {
   "cell_type": "markdown",
   "id": "83b1a497",
   "metadata": {},
   "source": [
    "# Realizando requisição e armazenando em variável"
   ]
  },
  {
   "cell_type": "code",
   "execution_count": 103,
   "id": "22239697",
   "metadata": {},
   "outputs": [],
   "source": [
    "weather = json.loads(lambda_handler(api_key, cidade)['body'])"
   ]
  },
  {
   "cell_type": "markdown",
   "id": "0449e896",
   "metadata": {},
   "source": [
    "# Definindo informações que serão salvas em tabelas & abrindo conexão com o BD"
   ]
  },
  {
   "cell_type": "code",
   "execution_count": 107,
   "id": "e8b217b7",
   "metadata": {},
   "outputs": [],
   "source": [
    "infos = ['coord',\n",
    "        'weather',\n",
    "        'main',\n",
    "        'wind',\n",
    "        'clouds',\n",
    "        'sys'\n",
    "        ]\n",
    "\n",
    "# Conexão com o BD\n",
    "conexao = sqlite3.connect('itau.db')"
   ]
  },
  {
   "cell_type": "code",
   "execution_count": 108,
   "id": "674d5674",
   "metadata": {},
   "outputs": [],
   "source": [
    "general_infos = pd.DataFrame([[weather['base'],\n",
    "            weather['visibility'],\n",
    "            weather['dt'],\n",
    "            weather['timezone'],\n",
    "            weather['id'],\n",
    "            weather['name'],\n",
    "            weather['cod']]], columns=['base', 'visibility', 'dt', 'timezone', 'id', 'name', 'cod'])"
   ]
  },
  {
   "cell_type": "markdown",
   "id": "09684a01",
   "metadata": {},
   "source": [
    "# Salvando no BD tabelas com informações geográficas e climáticas"
   ]
  },
  {
   "cell_type": "code",
   "execution_count": 109,
   "id": "00bc7727",
   "metadata": {},
   "outputs": [
    {
     "name": "stdout",
     "output_type": "stream",
     "text": [
      "coord\n",
      "ok\n",
      "weather\n",
      "ok\n",
      "main\n",
      "ok\n",
      "wind\n",
      "ok\n",
      "clouds\n",
      "ok\n",
      "sys\n",
      "ok\n"
     ]
    },
    {
     "data": {
      "text/plain": [
       "1"
      ]
     },
     "execution_count": 109,
     "metadata": {},
     "output_type": "execute_result"
    }
   ],
   "source": [
    "for i in infos:\n",
    "    print(i)\n",
    "    try:\n",
    "        df = pd.DataFrame.from_dict(weather[i]) \n",
    "    except:\n",
    "        df = pd.DataFrame.from_dict(weather[i], orient='index', columns=[i])\n",
    "    df.to_sql(i + '_data_SA_api', conexao, if_exists='replace')\n",
    "    print('ok')\n",
    "\n",
    "general_infos.to_sql('general_infos_data_SA_api', conexao, if_exists='replace')"
   ]
  },
  {
   "cell_type": "markdown",
   "id": "bcaac412",
   "metadata": {},
   "source": [
    "# Queries no BD para resgatar informação salva"
   ]
  },
  {
   "cell_type": "code",
   "execution_count": 110,
   "id": "68255ba7",
   "metadata": {},
   "outputs": [
    {
     "data": {
      "text/html": [
       "<div>\n",
       "<style scoped>\n",
       "    .dataframe tbody tr th:only-of-type {\n",
       "        vertical-align: middle;\n",
       "    }\n",
       "\n",
       "    .dataframe tbody tr th {\n",
       "        vertical-align: top;\n",
       "    }\n",
       "\n",
       "    .dataframe thead th {\n",
       "        text-align: right;\n",
       "    }\n",
       "</style>\n",
       "<table border=\"1\" class=\"dataframe\">\n",
       "  <thead>\n",
       "    <tr style=\"text-align: right;\">\n",
       "      <th></th>\n",
       "      <th>index</th>\n",
       "      <th>coord</th>\n",
       "    </tr>\n",
       "  </thead>\n",
       "  <tbody>\n",
       "    <tr>\n",
       "      <th>0</th>\n",
       "      <td>lon</td>\n",
       "      <td>-46.5383</td>\n",
       "    </tr>\n",
       "    <tr>\n",
       "      <th>1</th>\n",
       "      <td>lat</td>\n",
       "      <td>-23.6639</td>\n",
       "    </tr>\n",
       "  </tbody>\n",
       "</table>\n",
       "</div>"
      ],
      "text/plain": [
       "  index    coord\n",
       "0   lon -46.5383\n",
       "1   lat -23.6639"
      ]
     },
     "metadata": {},
     "output_type": "display_data"
    },
    {
     "data": {
      "text/html": [
       "<div>\n",
       "<style scoped>\n",
       "    .dataframe tbody tr th:only-of-type {\n",
       "        vertical-align: middle;\n",
       "    }\n",
       "\n",
       "    .dataframe tbody tr th {\n",
       "        vertical-align: top;\n",
       "    }\n",
       "\n",
       "    .dataframe thead th {\n",
       "        text-align: right;\n",
       "    }\n",
       "</style>\n",
       "<table border=\"1\" class=\"dataframe\">\n",
       "  <thead>\n",
       "    <tr style=\"text-align: right;\">\n",
       "      <th></th>\n",
       "      <th>index</th>\n",
       "      <th>id</th>\n",
       "      <th>main</th>\n",
       "      <th>description</th>\n",
       "      <th>icon</th>\n",
       "    </tr>\n",
       "  </thead>\n",
       "  <tbody>\n",
       "    <tr>\n",
       "      <th>0</th>\n",
       "      <td>0</td>\n",
       "      <td>800</td>\n",
       "      <td>Clear</td>\n",
       "      <td>clear sky</td>\n",
       "      <td>01d</td>\n",
       "    </tr>\n",
       "  </tbody>\n",
       "</table>\n",
       "</div>"
      ],
      "text/plain": [
       "   index   id   main description icon\n",
       "0      0  800  Clear   clear sky  01d"
      ]
     },
     "metadata": {},
     "output_type": "display_data"
    },
    {
     "data": {
      "text/html": [
       "<div>\n",
       "<style scoped>\n",
       "    .dataframe tbody tr th:only-of-type {\n",
       "        vertical-align: middle;\n",
       "    }\n",
       "\n",
       "    .dataframe tbody tr th {\n",
       "        vertical-align: top;\n",
       "    }\n",
       "\n",
       "    .dataframe thead th {\n",
       "        text-align: right;\n",
       "    }\n",
       "</style>\n",
       "<table border=\"1\" class=\"dataframe\">\n",
       "  <thead>\n",
       "    <tr style=\"text-align: right;\">\n",
       "      <th></th>\n",
       "      <th>index</th>\n",
       "      <th>main</th>\n",
       "    </tr>\n",
       "  </thead>\n",
       "  <tbody>\n",
       "    <tr>\n",
       "      <th>0</th>\n",
       "      <td>temp</td>\n",
       "      <td>294.46</td>\n",
       "    </tr>\n",
       "    <tr>\n",
       "      <th>1</th>\n",
       "      <td>feels_like</td>\n",
       "      <td>294.21</td>\n",
       "    </tr>\n",
       "    <tr>\n",
       "      <th>2</th>\n",
       "      <td>temp_min</td>\n",
       "      <td>290.06</td>\n",
       "    </tr>\n",
       "    <tr>\n",
       "      <th>3</th>\n",
       "      <td>temp_max</td>\n",
       "      <td>295.18</td>\n",
       "    </tr>\n",
       "    <tr>\n",
       "      <th>4</th>\n",
       "      <td>pressure</td>\n",
       "      <td>1026.00</td>\n",
       "    </tr>\n",
       "    <tr>\n",
       "      <th>5</th>\n",
       "      <td>humidity</td>\n",
       "      <td>60.00</td>\n",
       "    </tr>\n",
       "  </tbody>\n",
       "</table>\n",
       "</div>"
      ],
      "text/plain": [
       "        index     main\n",
       "0        temp   294.46\n",
       "1  feels_like   294.21\n",
       "2    temp_min   290.06\n",
       "3    temp_max   295.18\n",
       "4    pressure  1026.00\n",
       "5    humidity    60.00"
      ]
     },
     "metadata": {},
     "output_type": "display_data"
    },
    {
     "data": {
      "text/html": [
       "<div>\n",
       "<style scoped>\n",
       "    .dataframe tbody tr th:only-of-type {\n",
       "        vertical-align: middle;\n",
       "    }\n",
       "\n",
       "    .dataframe tbody tr th {\n",
       "        vertical-align: top;\n",
       "    }\n",
       "\n",
       "    .dataframe thead th {\n",
       "        text-align: right;\n",
       "    }\n",
       "</style>\n",
       "<table border=\"1\" class=\"dataframe\">\n",
       "  <thead>\n",
       "    <tr style=\"text-align: right;\">\n",
       "      <th></th>\n",
       "      <th>index</th>\n",
       "      <th>wind</th>\n",
       "    </tr>\n",
       "  </thead>\n",
       "  <tbody>\n",
       "    <tr>\n",
       "      <th>0</th>\n",
       "      <td>speed</td>\n",
       "      <td>3.09</td>\n",
       "    </tr>\n",
       "    <tr>\n",
       "      <th>1</th>\n",
       "      <td>deg</td>\n",
       "      <td>110.00</td>\n",
       "    </tr>\n",
       "  </tbody>\n",
       "</table>\n",
       "</div>"
      ],
      "text/plain": [
       "   index    wind\n",
       "0  speed    3.09\n",
       "1    deg  110.00"
      ]
     },
     "metadata": {},
     "output_type": "display_data"
    },
    {
     "data": {
      "text/html": [
       "<div>\n",
       "<style scoped>\n",
       "    .dataframe tbody tr th:only-of-type {\n",
       "        vertical-align: middle;\n",
       "    }\n",
       "\n",
       "    .dataframe tbody tr th {\n",
       "        vertical-align: top;\n",
       "    }\n",
       "\n",
       "    .dataframe thead th {\n",
       "        text-align: right;\n",
       "    }\n",
       "</style>\n",
       "<table border=\"1\" class=\"dataframe\">\n",
       "  <thead>\n",
       "    <tr style=\"text-align: right;\">\n",
       "      <th></th>\n",
       "      <th>index</th>\n",
       "      <th>clouds</th>\n",
       "    </tr>\n",
       "  </thead>\n",
       "  <tbody>\n",
       "    <tr>\n",
       "      <th>0</th>\n",
       "      <td>all</td>\n",
       "      <td>0</td>\n",
       "    </tr>\n",
       "  </tbody>\n",
       "</table>\n",
       "</div>"
      ],
      "text/plain": [
       "  index  clouds\n",
       "0   all       0"
      ]
     },
     "metadata": {},
     "output_type": "display_data"
    },
    {
     "data": {
      "text/html": [
       "<div>\n",
       "<style scoped>\n",
       "    .dataframe tbody tr th:only-of-type {\n",
       "        vertical-align: middle;\n",
       "    }\n",
       "\n",
       "    .dataframe tbody tr th {\n",
       "        vertical-align: top;\n",
       "    }\n",
       "\n",
       "    .dataframe thead th {\n",
       "        text-align: right;\n",
       "    }\n",
       "</style>\n",
       "<table border=\"1\" class=\"dataframe\">\n",
       "  <thead>\n",
       "    <tr style=\"text-align: right;\">\n",
       "      <th></th>\n",
       "      <th>index</th>\n",
       "      <th>sys</th>\n",
       "    </tr>\n",
       "  </thead>\n",
       "  <tbody>\n",
       "    <tr>\n",
       "      <th>0</th>\n",
       "      <td>type</td>\n",
       "      <td>2</td>\n",
       "    </tr>\n",
       "    <tr>\n",
       "      <th>1</th>\n",
       "      <td>id</td>\n",
       "      <td>2033898</td>\n",
       "    </tr>\n",
       "    <tr>\n",
       "      <th>2</th>\n",
       "      <td>country</td>\n",
       "      <td>BR</td>\n",
       "    </tr>\n",
       "    <tr>\n",
       "      <th>3</th>\n",
       "      <td>sunrise</td>\n",
       "      <td>1690882887</td>\n",
       "    </tr>\n",
       "    <tr>\n",
       "      <th>4</th>\n",
       "      <td>sunset</td>\n",
       "      <td>1690922605</td>\n",
       "    </tr>\n",
       "  </tbody>\n",
       "</table>\n",
       "</div>"
      ],
      "text/plain": [
       "     index         sys\n",
       "0     type           2\n",
       "1       id     2033898\n",
       "2  country          BR\n",
       "3  sunrise  1690882887\n",
       "4   sunset  1690922605"
      ]
     },
     "metadata": {},
     "output_type": "display_data"
    }
   ],
   "source": [
    "for i in infos:\n",
    "    rows = conexao.execute('select * from ' + i + '_data_SA_api')\n",
    "    columns = [col[0] for col in rows.description]\n",
    "    info = pd.DataFrame(rows.fetchall(), columns=columns)\n",
    "    display(info)"
   ]
  },
  {
   "cell_type": "code",
   "execution_count": 111,
   "id": "84644e1c",
   "metadata": {},
   "outputs": [],
   "source": [
    "# Fechando conexão com o banco de dados\n",
    "conexao.close()"
   ]
  }
 ],
 "metadata": {
  "kernelspec": {
   "display_name": "Python 3 (ipykernel)",
   "language": "python",
   "name": "python3"
  },
  "language_info": {
   "codemirror_mode": {
    "name": "ipython",
    "version": 3
   },
   "file_extension": ".py",
   "mimetype": "text/x-python",
   "name": "python",
   "nbconvert_exporter": "python",
   "pygments_lexer": "ipython3",
   "version": "3.11.3"
  }
 },
 "nbformat": 4,
 "nbformat_minor": 5
}
