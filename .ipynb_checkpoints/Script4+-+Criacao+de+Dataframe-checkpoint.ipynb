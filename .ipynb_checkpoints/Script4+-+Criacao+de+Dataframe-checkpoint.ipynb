{
 "cells": [
  {
   "cell_type": "markdown",
   "id": "04a44adf",
   "metadata": {},
   "source": [
    "## Criação de Dataframe"
   ]
  },
  {
   "cell_type": "code",
   "execution_count": null,
   "id": "2f87a473",
   "metadata": {},
   "outputs": [],
   "source": [
    "#Carregando dados em um Dataframe e Listando\n",
    "from datetime import datetime, date\n",
    "from pyspark.sql import Row\n",
    "\n",
    "datf=spark.createDataFrame([\n",
    "    Row(Cidade='Salvador', Populacao=6., Time='Bahia', Dat_cadastro=date(2021, 10, 10)),\n",
    "    Row(Cidade='Sao Paulo',Populacao=45., Time='Sao Paulo', Dat_cadastro=date(2021, 5, 5)),\n",
    "    Row(Cidade='Recife', Populacao=3., Time='Sport',Dat_cadastro=date(2021, 7, 2)),\n",
    "    Row(Cidade='Maceio', Populacao=2., Time='CSA', Dat_cadastro=date(2021, 8, 1)),\n",
    "])\n",
    "datf"
   ]
  },
  {
   "cell_type": "code",
   "execution_count": null,
   "id": "669fcade",
   "metadata": {},
   "outputs": [],
   "source": [
    "#Exibindo os dados do Dataframe\n",
    "\n",
    "datf.show()"
   ]
  },
  {
   "cell_type": "code",
   "execution_count": null,
   "id": "ea45feec",
   "metadata": {},
   "outputs": [],
   "source": [
    "# Exibindo apenas dois registros no Dataframe\n",
    "datf.show(2)"
   ]
  },
  {
   "cell_type": "code",
   "execution_count": null,
   "id": "d1fd745e",
   "metadata": {},
   "outputs": [],
   "source": [
    "# Exibindo tres registros do Dataframe na vertical\n",
    "datf.show(3, vertical=True)"
   ]
  },
  {
   "cell_type": "code",
   "execution_count": null,
   "id": "ea878d48",
   "metadata": {},
   "outputs": [],
   "source": [
    "# Exibindo todos os dados com o collect()\n",
    "datf.collect()"
   ]
  },
  {
   "cell_type": "code",
   "execution_count": null,
   "id": "996fea54",
   "metadata": {},
   "outputs": [],
   "source": [
    "# Sumarizando os dados a partir de determinados campos\n",
    "datf.select(\"Cidade\", \"Populacao\").describe().show()"
   ]
  },
  {
   "cell_type": "code",
   "execution_count": null,
   "id": "d70c839d",
   "metadata": {},
   "outputs": [],
   "source": [
    "# Exibindo o Schema do Dataframe\n",
    "datf.printSchema()"
   ]
  },
  {
   "cell_type": "code",
   "execution_count": null,
   "id": "2bba06db",
   "metadata": {},
   "outputs": [],
   "source": [
    "# Carregando o modulo de funções, expecificamente a função Upper\n",
    "from pyspark.sql.functions import upper\n",
    "datf.withColumn('Cidade_U', upper(datf.Cidade)).show()"
   ]
  },
  {
   "cell_type": "code",
   "execution_count": null,
   "id": "88de945e",
   "metadata": {},
   "outputs": [],
   "source": [
    "# Filtrando a Cidade de Salvador nos dados\n",
    "datf.filter(datf.Cidade == \"Salvador\").show()"
   ]
  },
  {
   "cell_type": "code",
   "execution_count": null,
   "id": "3adfe9e6",
   "metadata": {},
   "outputs": [],
   "source": [
    "# Criando uma tabela temporária em memória com os dados e utilizando consulta SQL\n",
    "datf.createOrReplaceTempView(\"Dados\")\n",
    "spark.sql(\"select count(*) from Dados\").show()"
   ]
  },
  {
   "cell_type": "markdown",
   "id": "e8726daa",
   "metadata": {},
   "source": [
    "## Transformando um RDD em Dataframe"
   ]
  },
  {
   "cell_type": "code",
   "execution_count": null,
   "id": "45627a1d",
   "metadata": {},
   "outputs": [],
   "source": [
    "# carregando os dados sobre Capital de paises\n",
    "pais = [(\"Brasil\",10000),(\"Argentina\",20000),(\"Australia\",35000),(\"Italia\",40000),(\"Egito\",65000),(\"Mexico\",80000)]\n",
    "rddpais= spark.sparkContext.parallelize(pais)"
   ]
  },
  {
   "cell_type": "code",
   "execution_count": null,
   "id": "29587ecd",
   "metadata": {},
   "outputs": [],
   "source": [
    "# convertendo os dados do RDD para Dataframe com a operação toDF() \n",
    "dataframerdd= rddpais.toDF()"
   ]
  },
  {
   "cell_type": "code",
   "execution_count": null,
   "id": "cc43f513",
   "metadata": {},
   "outputs": [],
   "source": [
    "# Exibindo os dados do Dataframe\n",
    "dataframerdd.show()"
   ]
  },
  {
   "cell_type": "code",
   "execution_count": null,
   "id": "04d6bb8e",
   "metadata": {},
   "outputs": [],
   "source": [
    "# Criando o schema das colunas dos campos do Dataframe\n",
    "Colunas = [\"Pais\",\"Total_capital(Bilhoes)\"]\n",
    "dataframerdd2= rddpais.toDF(Colunas)\n",
    "dataframerdd2.printSchema()\n",
    "dataframerdd2.show(truncate=False)"
   ]
  },
  {
   "cell_type": "code",
   "execution_count": null,
   "id": "7c698cf5",
   "metadata": {},
   "outputs": [],
   "source": []
  }
 ],
 "metadata": {
  "kernelspec": {
   "display_name": "Python 3 (ipykernel)",
   "language": "python",
   "name": "python3"
  },
  "language_info": {
   "codemirror_mode": {
    "name": "ipython",
    "version": 3
   },
   "file_extension": ".py",
   "mimetype": "text/x-python",
   "name": "python",
   "nbconvert_exporter": "python",
   "pygments_lexer": "ipython3",
   "version": "3.11.4"
  }
 },
 "nbformat": 4,
 "nbformat_minor": 5
}
