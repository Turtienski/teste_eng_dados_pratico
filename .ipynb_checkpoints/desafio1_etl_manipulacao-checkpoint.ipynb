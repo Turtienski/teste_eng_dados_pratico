{
 "cells": [
  {
   "cell_type": "markdown",
   "id": "1bb81932",
   "metadata": {},
   "source": [
    "Primeiro desafio - ETL e Manipulação de dados\n"
   ]
  },
  {
   "cell_type": "code",
   "execution_count": 10,
   "id": "78a755d8",
   "metadata": {},
   "outputs": [],
   "source": [
    "# importar bibliotecas\n",
    "import pandas as pd\n",
    "import sqlite3"
   ]
  },
  {
   "cell_type": "code",
   "execution_count": 4,
   "id": "fabed516",
   "metadata": {},
   "outputs": [
    {
     "data": {
      "text/plain": [
       "240"
      ]
     },
     "execution_count": 4,
     "metadata": {},
     "output_type": "execute_result"
    }
   ],
   "source": [
    "# Leitura do Arquivo\n",
    "data_path = \"sales_data.csv\"\n",
    "df = pd.read_csv(data_path)\n",
    "# df.head()"
   ]
  },
  {
   "cell_type": "code",
   "execution_count": 6,
   "id": "8c3dcca6",
   "metadata": {},
   "outputs": [
    {
     "data": {
      "text/plain": [
       "240"
      ]
     },
     "execution_count": 6,
     "metadata": {},
     "output_type": "execute_result"
    }
   ],
   "source": [
    "# Remover linhas duplicadas e tratar valores faltantes\n",
    "df.drop_duplicates()\n",
    "df.fillna(0)\n",
    "# df.head()"
   ]
  },
  {
   "cell_type": "code",
   "execution_count": 9,
   "id": "b0a28e89",
   "metadata": {},
   "outputs": [
    {
     "data": {
      "text/html": [
       "<div>\n",
       "<style scoped>\n",
       "    .dataframe tbody tr th:only-of-type {\n",
       "        vertical-align: middle;\n",
       "    }\n",
       "\n",
       "    .dataframe tbody tr th {\n",
       "        vertical-align: top;\n",
       "    }\n",
       "\n",
       "    .dataframe thead th {\n",
       "        text-align: right;\n",
       "    }\n",
       "</style>\n",
       "<table border=\"1\" class=\"dataframe\">\n",
       "  <thead>\n",
       "    <tr style=\"text-align: right;\">\n",
       "      <th></th>\n",
       "      <th>transaction_id</th>\n",
       "      <th>date</th>\n",
       "      <th>product_id</th>\n",
       "      <th>seller_id</th>\n",
       "      <th>sale_value</th>\n",
       "      <th>currency</th>\n",
       "      <th>sale_value_usd</th>\n",
       "    </tr>\n",
       "  </thead>\n",
       "  <tbody>\n",
       "    <tr>\n",
       "      <th>0</th>\n",
       "      <td>1001</td>\n",
       "      <td>2023-07-25</td>\n",
       "      <td>501</td>\n",
       "      <td>2001</td>\n",
       "      <td>150</td>\n",
       "      <td>FICT</td>\n",
       "      <td>112.50</td>\n",
       "    </tr>\n",
       "    <tr>\n",
       "      <th>1</th>\n",
       "      <td>1002</td>\n",
       "      <td>2023-07-25</td>\n",
       "      <td>502</td>\n",
       "      <td>2001</td>\n",
       "      <td>300</td>\n",
       "      <td>FICT</td>\n",
       "      <td>225.00</td>\n",
       "    </tr>\n",
       "    <tr>\n",
       "      <th>2</th>\n",
       "      <td>1003</td>\n",
       "      <td>2023-07-25</td>\n",
       "      <td>501</td>\n",
       "      <td>2002</td>\n",
       "      <td>160</td>\n",
       "      <td>FICT</td>\n",
       "      <td>120.00</td>\n",
       "    </tr>\n",
       "    <tr>\n",
       "      <th>3</th>\n",
       "      <td>1004</td>\n",
       "      <td>2023-07-25</td>\n",
       "      <td>503</td>\n",
       "      <td>2002</td>\n",
       "      <td>210</td>\n",
       "      <td>FICT</td>\n",
       "      <td>157.50</td>\n",
       "    </tr>\n",
       "    <tr>\n",
       "      <th>4</th>\n",
       "      <td>1005</td>\n",
       "      <td>2023-07-25</td>\n",
       "      <td>504</td>\n",
       "      <td>2003</td>\n",
       "      <td>75</td>\n",
       "      <td>FICT</td>\n",
       "      <td>56.25</td>\n",
       "    </tr>\n",
       "  </tbody>\n",
       "</table>\n",
       "</div>"
      ],
      "text/plain": [
       "   transaction_id        date  product_id  seller_id  sale_value currency  \\\n",
       "0            1001  2023-07-25         501       2001         150     FICT   \n",
       "1            1002  2023-07-25         502       2001         300     FICT   \n",
       "2            1003  2023-07-25         501       2002         160     FICT   \n",
       "3            1004  2023-07-25         503       2002         210     FICT   \n",
       "4            1005  2023-07-25         504       2003          75     FICT   \n",
       "\n",
       "   sale_value_usd  \n",
       "0          112.50  \n",
       "1          225.00  \n",
       "2          120.00  \n",
       "3          157.50  \n",
       "4           56.25  "
      ]
     },
     "execution_count": 9,
     "metadata": {},
     "output_type": "execute_result"
    }
   ],
   "source": [
    "# Converter FICT para USD\n",
    "cambio = 0.75\n",
    "df[\"sale_value_usd\"] = df[\"sale_value\"]*cambio\n",
    "#df.head()"
   ]
  },
  {
   "cell_type": "code",
   "execution_count": 12,
   "id": "1e33bcfb",
   "metadata": {},
   "outputs": [],
   "source": [
    "# conectar a um banco de dados relacional\n",
    "# em seguida, enviar os dados para o banco\n",
    "# caso a tabela já exista, adicionar os dados a ela.\n",
    "# ao final, encerrar conexão\n",
    "con = sqlite3.connect(\"sql_db\")\n",
    "df.to_sql(\"sales_data\", con, if_exists=\"append\", index=\"false\")\n",
    "con.close()"
   ]
  },
  {
   "cell_type": "code",
   "execution_count": null,
   "id": "fd898226",
   "metadata": {},
   "outputs": [],
   "source": []
  }
 ],
 "metadata": {
  "kernelspec": {
   "display_name": "Python 3 (ipykernel)",
   "language": "python",
   "name": "python3"
  },
  "language_info": {
   "codemirror_mode": {
    "name": "ipython",
    "version": 3
   },
   "file_extension": ".py",
   "mimetype": "text/x-python",
   "name": "python",
   "nbconvert_exporter": "python",
   "pygments_lexer": "ipython3",
   "version": "3.11.4"
  }
 },
 "nbformat": 4,
 "nbformat_minor": 5
}
