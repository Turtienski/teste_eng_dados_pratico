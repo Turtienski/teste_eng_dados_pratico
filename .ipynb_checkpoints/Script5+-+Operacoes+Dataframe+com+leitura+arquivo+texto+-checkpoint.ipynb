{
 "cells": [
  {
   "cell_type": "markdown",
   "id": "11d27255",
   "metadata": {},
   "source": [
    "## Carregando dados de um arquivo para um Dataframe"
   ]
  },
  {
   "cell_type": "code",
   "execution_count": null,
   "id": "2dfdeca0",
   "metadata": {},
   "outputs": [],
   "source": [
    "#importando sparksession\n",
    "from pyspark.sql import SparkSession\n",
    "\n",
    "#criando um objeto sparksession object e um appName \n",
    "spark=SparkSession.builder.appName(\"fooddf\").getOrCreate()"
   ]
  },
  {
   "cell_type": "code",
   "execution_count": null,
   "id": "6dfde6d2",
   "metadata": {},
   "outputs": [],
   "source": [
    "# Fazendo a leitura do arquivo food_coded.csv\n",
    "df = spark.read.option(\"header\", \"true\").csv(\"/Treinamento/Dados/food_coded.csv\")"
   ]
  },
  {
   "cell_type": "code",
   "execution_count": null,
   "id": "f156a7bf",
   "metadata": {},
   "outputs": [],
   "source": [
    "# Exibindo as 10 primeiras linhas\n",
    "df.show(10)"
   ]
  },
  {
   "cell_type": "code",
   "execution_count": null,
   "id": "f6a500e9",
   "metadata": {},
   "outputs": [],
   "source": [
    "# exibindo o Schema\n",
    "df.printSchema()"
   ]
  },
  {
   "cell_type": "code",
   "execution_count": null,
   "id": "8d4b970d",
   "metadata": {},
   "outputs": [],
   "source": [
    "# Selecionando alguns campos\n",
    "df.select('mother_profession','type_sports', 'Gender', 'weight','calories_day').show(30)"
   ]
  },
  {
   "cell_type": "code",
   "execution_count": null,
   "id": "5aa44a98",
   "metadata": {},
   "outputs": [],
   "source": [
    "# utilizando funcoes do pyspark para filtro\n",
    "from pyspark.sql.functions import *\n",
    "# Filtrando os dados que nao sao nulos\n",
    "resultdf1 = df.filter(df.weight.isNotNull()).select('mother_profession','type_sports', 'Gender', 'weight','calories_day')"
   ]
  },
  {
   "cell_type": "code",
   "execution_count": null,
   "id": "86784dd5",
   "metadata": {},
   "outputs": [],
   "source": [
    "# Exibindo os dados\n",
    "resultdf1.show()"
   ]
  },
  {
   "cell_type": "code",
   "execution_count": null,
   "id": "1e1f82f6",
   "metadata": {},
   "outputs": [],
   "source": [
    "# Retirando por meio de REGEX todos os carcteres que nao sejam numericos do campo weight\n",
    "resultdf2 = resultdf1.filter(col(\"weight\").rlike(\"^[0-9]*$\"))\n",
    "resultdf2.show()"
   ]
  },
  {
   "cell_type": "code",
   "execution_count": null,
   "id": "ee1528e6",
   "metadata": {},
   "outputs": [],
   "source": [
    "# Gerando uma agregação dos dados por Gender e weight\n",
    "resultdf2.groupBy(\"Gender\", \"weight\").count().orderBy(\"weight\").show()"
   ]
  },
  {
   "cell_type": "code",
   "execution_count": null,
   "id": "1f1a8134",
   "metadata": {},
   "outputs": [],
   "source": [
    "# Seelcionando os registros cujo weight >= 150, indicando sobrepeso, separando por tipo de esporte\n",
    "resultdf3 = resultdf2.select(\"type_sports\", when(resultdf2.weight >= 150, \"Sobrepeso\"))"
   ]
  },
  {
   "cell_type": "code",
   "execution_count": null,
   "id": "58107d7f",
   "metadata": {},
   "outputs": [],
   "source": [
    "# Exibindo os dados\n",
    "resultdf3.show()\n"
   ]
  },
  {
   "cell_type": "code",
   "execution_count": null,
   "id": "b28b4ef2",
   "metadata": {},
   "outputs": [],
   "source": [
    "# Retirando as informacoes nulas do segundo campo\n",
    "resultdf4 = resultdf3.filter(resultdf3[1].isNotNull())"
   ]
  },
  {
   "cell_type": "code",
   "execution_count": null,
   "id": "4ca96ef3",
   "metadata": {},
   "outputs": [],
   "source": [
    "# Exibindo os dados\n",
    "resultdf4.show()\n"
   ]
  },
  {
   "cell_type": "code",
   "execution_count": null,
   "id": "6aaede27",
   "metadata": {},
   "outputs": [],
   "source": [
    "# Retirando as informacoes none, None., nan do primeiro campo ( type_sports)\n",
    "resultdf4.filter((resultdf3[0] != 'none') & (resultdf3[0] != 'None.') & (resultdf3[0] != 'nan')).show()"
   ]
  },
  {
   "cell_type": "code",
   "execution_count": null,
   "id": "27b29420",
   "metadata": {},
   "outputs": [],
   "source": []
  }
 ],
 "metadata": {
  "kernelspec": {
   "display_name": "Python 3 (ipykernel)",
   "language": "python",
   "name": "python3"
  },
  "language_info": {
   "codemirror_mode": {
    "name": "ipython",
    "version": 3
   },
   "file_extension": ".py",
   "mimetype": "text/x-python",
   "name": "python",
   "nbconvert_exporter": "python",
   "pygments_lexer": "ipython3",
   "version": "3.11.4"
  }
 },
 "nbformat": 4,
 "nbformat_minor": 5
}
