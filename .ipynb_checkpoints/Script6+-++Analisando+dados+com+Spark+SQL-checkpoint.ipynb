{
 "cells": [
  {
   "cell_type": "markdown",
   "id": "c0dd9150",
   "metadata": {},
   "source": [
    "## Carregando dados de um arquivo para um Dataframe\n",
    "\n",
    " * Vamos analisar dados sobre quilometragem em bikes na India, buscando realizar:\n",
    " \n",
    " 1. Entender as cidades que mais possuem quilômetros rodados\n",
    " 2. Enterder as cidades com as médias maiores  (ou a maior)\n",
    " 3. Entender as cidades com as máximas maiores (ou a maior)\n",
    " 4. Entender as cidades com as minimas menores (ou a maior)\n",
    " 5. Verificar qual cidade tem mais registros e analisá-los\n",
    "   - Analisar a média, máximo e mínimo desta cidade\n",
    "   - Analisar pelo campo que descreve as bikes\n",
    "   - Analisar se as bikes na maioria são de primeiro, segundo donos.\n",
    "   - Gerando gráficos sobre os dados\n",
    " \n",
    " "
   ]
  },
  {
   "cell_type": "code",
   "execution_count": null,
   "id": "159f9d8c",
   "metadata": {},
   "outputs": [],
   "source": [
    "#importando sparksession\n",
    "from pyspark.sql import SparkSession\n",
    "\n",
    "#criando um objeto sparksession object e um appName \n",
    "sparkSession=SparkSession.builder.appName(\"bikes\").getOrCreate()"
   ]
  },
  {
   "cell_type": "code",
   "execution_count": null,
   "id": "bbf21dd3",
   "metadata": {},
   "outputs": [],
   "source": [
    "# Fazendo a leitura do arquivo Bikes.csv\n",
    "bikes = sparkSession.read.option(\"header\", \"true\").csv(\"/Treinamento/Dados/Bikes.csv\")"
   ]
  },
  {
   "cell_type": "code",
   "execution_count": null,
   "id": "59651e3c",
   "metadata": {},
   "outputs": [],
   "source": [
    "# Criando uma tabela temporária em memória com os dados e utilizando consulta SQL\n",
    "bikes.createOrReplaceTempView(\"tab_bikes\")\n",
    "sparkSession.sql(\"select * from tab_bikes\").show()"
   ]
  },
  {
   "cell_type": "code",
   "execution_count": null,
   "id": "828aa8f9",
   "metadata": {},
   "outputs": [],
   "source": [
    "# Selecionando dados para analisar a maior média de quilometros percorridos\n",
    "sparkSession.sql(\"select city, avg(kms_driven) as media_km from tab_bikes group by city order by media_km desc \").show(1)"
   ]
  },
  {
   "cell_type": "code",
   "execution_count": null,
   "id": "02232710",
   "metadata": {},
   "outputs": [],
   "source": [
    "# Selecionando dados para analisar a maior quilometragem atingida\n",
    "sparkSession.sql(\"select city, max(kms_driven) as maximo_km from tab_bikes group by city order by maximo_km desc\").show(1)"
   ]
  },
  {
   "cell_type": "code",
   "execution_count": null,
   "id": "31142e08",
   "metadata": {},
   "outputs": [],
   "source": [
    "# Selecionando dados para analisar a menor quilometragem atingida\n",
    "sparkSession.sql(\"select city, min(kms_driven) as minimo_km from tab_bikes group by city order by minimo_km asc\").show(1)"
   ]
  },
  {
   "cell_type": "code",
   "execution_count": null,
   "id": "956d05e6",
   "metadata": {},
   "outputs": [],
   "source": [
    "# # Selecionando dados para analisar a média de potencia das bicicletas e o total por cidade\n",
    "sparkSession.sql(\"select brand, avg(power) as media_potencia, count(*) as total from tab_bikes group by brand order by total desc\").show()"
   ]
  },
  {
   "cell_type": "code",
   "execution_count": null,
   "id": "22c51b0e",
   "metadata": {},
   "outputs": [],
   "source": [
    "# Selecionando dados para analisar a cidade de Bajaj que tem a maior quantidade de registros, colocando em um Dataframe\n",
    "bajaj=sparkSession.sql(\"select * from tab_bikes where brand='Bajaj'\")"
   ]
  },
  {
   "cell_type": "code",
   "execution_count": null,
   "id": "5ec00d71",
   "metadata": {},
   "outputs": [],
   "source": [
    "# Criando uma tabela temporária apenas com os dados de Bajaj\n",
    "bajaj.createOrReplaceTempView(\"tab_bikes2\")"
   ]
  },
  {
   "cell_type": "code",
   "execution_count": null,
   "id": "4c5f94b0",
   "metadata": {},
   "outputs": [],
   "source": [
    "# Identifiando o tipo de objeto\n",
    "type(bajaj)"
   ]
  },
  {
   "cell_type": "code",
   "execution_count": null,
   "id": "8a443e0e",
   "metadata": {},
   "outputs": [],
   "source": [
    "# Selecionando os dados da cidade de Bajaj\n",
    "sparkSession.sql(\"select count(*) from tab_bikes2\").show()"
   ]
  },
  {
   "cell_type": "code",
   "execution_count": null,
   "id": "f0fd3a73",
   "metadata": {},
   "outputs": [],
   "source": [
    "# Selecionando os dados da cidade de Bajaj, entendo o valor médio,máximo e mínimo \n",
    "sparkSession.sql(\"select avg(kms_driven) as media,max(kms_driven) as maximo,min(kms_driven) as minimo from tab_bikes\").show()"
   ]
  },
  {
   "cell_type": "code",
   "execution_count": null,
   "id": "67f5d097",
   "metadata": {},
   "outputs": [],
   "source": [
    "# Selecionando os dados da cidade de Bajaj, entendo o valor médio,máximo e mínimo por bike_name\n",
    "sparkSession.sql(\"select bike_name, avg(kms_driven) as media,max(kms_driven) as maximo,min(kms_driven) as minimo from tab_bikes group by bike_name order by 1 asc\").show(70)"
   ]
  },
  {
   "cell_type": "code",
   "execution_count": null,
   "id": "ebdaa09a",
   "metadata": {},
   "outputs": [],
   "source": [
    "# Selecionando os dados da cidade de Bajaj, entendendo como foram adquiridas as Bikes\n",
    "sparkSession.sql(\"select owner,count(*) as total from tab_bikes group by owner order by 2 desc\").show()"
   ]
  },
  {
   "cell_type": "code",
   "execution_count": null,
   "id": "bd8f49b5",
   "metadata": {},
   "outputs": [],
   "source": [
    "# Cria um Dataframe pandas para plotar os dados\n",
    "bajaj_df=sparkSession.sql(\"select owner,count(*) as total from tab_bikes group by owner order by 2 desc\")\n",
    "bajaj_pandas= bajaj_df.toPandas()"
   ]
  },
  {
   "cell_type": "code",
   "execution_count": null,
   "id": "0d2591a5",
   "metadata": {},
   "outputs": [],
   "source": [
    "# utiliza a biblioteca matplotlib para criar um gráfico de barras para entender como são adquiridas as Bikes\n",
    "import matplotlib.pyplot as plotar\n",
    "bajaj_pandas.plot(kind='bar',x='owner',y='total')\n",
    "plotar.title('Como foram adquiridas as Bikes')\n",
    "plotar.xlabel('Por uso')\n",
    "plotar.ylabel('Total proprietários')\n",
    "plotar.show()"
   ]
  },
  {
   "cell_type": "code",
   "execution_count": null,
   "id": "06c80932",
   "metadata": {},
   "outputs": [],
   "source": []
  }
 ],
 "metadata": {
  "kernelspec": {
   "display_name": "Python 3 (ipykernel)",
   "language": "python",
   "name": "python3"
  },
  "language_info": {
   "codemirror_mode": {
    "name": "ipython",
    "version": 3
   },
   "file_extension": ".py",
   "mimetype": "text/x-python",
   "name": "python",
   "nbconvert_exporter": "python",
   "pygments_lexer": "ipython3",
   "version": "3.11.4"
  }
 },
 "nbformat": 4,
 "nbformat_minor": 5
}
