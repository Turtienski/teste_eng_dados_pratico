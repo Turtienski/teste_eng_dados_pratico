{
 "cells": [
  {
   "cell_type": "code",
   "execution_count": 28,
   "id": "32fc61b5",
   "metadata": {},
   "outputs": [],
   "source": [
    "# bibliotecas\n",
    "from datetime import datetime, date\n",
    "import pandas as pd\n",
    "from pyspark.sql import SparkSession\n",
    "from pyspark.sql import Row\n",
    "from pyspark.sql.functions import weekofyear\n"
   ]
  },
  {
   "cell_type": "code",
   "execution_count": 2,
   "id": "33c38349",
   "metadata": {},
   "outputs": [],
   "source": [
    "#criando um objeto sparksession object e um appName \n",
    "sparkSession=SparkSession.builder.appName(\"logs\").getOrCreate()"
   ]
  },
  {
   "cell_type": "code",
   "execution_count": 3,
   "id": "ec28feb9",
   "metadata": {},
   "outputs": [
    {
     "data": {
      "text/plain": [
       "Row(user_id='10001', page_url='homepage.html', session_duration='15', date='2023-07-25')"
      ]
     },
     "execution_count": 3,
     "metadata": {},
     "output_type": "execute_result"
    }
   ],
   "source": [
    "# ler arquivo e carregar dados para um dataframe\n",
    "df = sparkSession.read.option(\"header\", \"true\").csv(\"website_logs.csv\")\n",
    "\n",
    "#df.head()"
   ]
  },
  {
   "cell_type": "code",
   "execution_count": 6,
   "id": "8ca1851d",
   "metadata": {},
   "outputs": [
    {
     "name": "stdout",
     "output_type": "stream",
     "text": [
      "+-------+-----------------+----------------+----------+\n",
      "|user_id|         page_url|session_duration|      date|\n",
      "+-------+-----------------+----------------+----------+\n",
      "|  10001|    homepage.html|              15|2023-07-25|\n",
      "|  10002|product_page.html|             120|2023-07-25|\n",
      "|  10003|    checkout.html|              45|2023-07-25|\n",
      "|  10004|     contact.html|              20|2023-07-25|\n",
      "|  10005|    homepage.html|              10|2023-07-25|\n",
      "|  10006|product_page.html|              95|2023-07-25|\n",
      "|  10007|        blog.html|             150|2023-07-26|\n",
      "|  10008|    homepage.html|              25|2023-07-26|\n",
      "|  10009|product_page.html|              85|2023-07-26|\n",
      "|  10010|    checkout.html|              50|2023-07-26|\n",
      "|  10011|         faq.html|              35|2023-07-27|\n",
      "|  10012|    homepage.html|              12|2023-07-27|\n",
      "|  10013|product_page.html|             110|2023-07-27|\n",
      "|  10014|    checkout.html|              60|2023-07-27|\n",
      "|  10015|        blog.html|             160|2023-07-28|\n",
      "|  10016|    homepage.html|              18|2023-07-28|\n",
      "|  10017|product_page.html|             100|2023-07-28|\n",
      "|  10018|    checkout.html|              55|2023-07-28|\n",
      "|  10019|     contact.html|              22|2023-07-29|\n",
      "|  10020|    homepage.html|              15|2023-07-29|\n",
      "+-------+-----------------+----------------+----------+\n",
      "only showing top 20 rows\n",
      "\n"
     ]
    }
   ],
   "source": [
    "# criar tabela temporária em memória com os dados para utilizar consulta SQL\n",
    "df.createOrReplaceTempView(\"logs\")\n",
    "sparkSession.sql(\"select * from logs\").show()"
   ]
  },
  {
   "cell_type": "code",
   "execution_count": 14,
   "id": "8bbb0230",
   "metadata": {},
   "outputs": [
    {
     "name": "stdout",
     "output_type": "stream",
     "text": [
      "+-----------------+-------+\n",
      "|         page_url|counter|\n",
      "+-----------------+-------+\n",
      "|    homepage.html|     51|\n",
      "|product_page.html|     46|\n",
      "|    checkout.html|     35|\n",
      "|     contact.html|     19|\n",
      "|        blog.html|     18|\n",
      "|         faq.html|     14|\n",
      "|    about_us.html|      1|\n",
      "+-----------------+-------+\n",
      "\n"
     ]
    }
   ],
   "source": [
    "# Ordenar páginas mais visitadas e selecionar as 10 primeiras\n",
    "top_acessos = sparkSession.sql(\"select page_url, count(*) as counter from logs group by page_url order by 2 desc\")\n",
    "top_acessos.show(10)\n"
   ]
  },
  {
   "cell_type": "code",
   "execution_count": 24,
   "id": "6823357d",
   "metadata": {},
   "outputs": [
    {
     "name": "stdout",
     "output_type": "stream",
     "text": [
      "+-------+------------------+\n",
      "|user_id|      media_sessao|\n",
      "+-------+------------------+\n",
      "|  10001|19.666666666666668|\n",
      "|  10002|124.33333333333333|\n",
      "|  10003|48.666666666666664|\n",
      "|  10004|24.333333333333332|\n",
      "|  10005|14.333333333333334|\n",
      "|  10006| 99.33333333333333|\n",
      "|  10007|152.33333333333334|\n",
      "|  10008|29.333333333333332|\n",
      "|  10009| 87.66666666666667|\n",
      "|  10010|54.666666666666664|\n",
      "|  10011|37.666666666666664|\n",
      "|  10012|14.333333333333334|\n",
      "|  10013|114.66666666666667|\n",
      "|  10014|62.666666666666664|\n",
      "|  10015|             161.0|\n",
      "|  10016|20.666666666666668|\n",
      "|  10017|104.33333333333333|\n",
      "|  10018|57.666666666666664|\n",
      "|  10019|              26.0|\n",
      "|  10020|              18.0|\n",
      "+-------+------------------+\n",
      "only showing top 20 rows\n",
      "\n"
     ]
    }
   ],
   "source": [
    "# Calcular a média de duraçao das sessões de usuários\n",
    "duracao_media_sessao = sparkSession.sql(\"select user_id, avg(session_duration) as media_sessao from logs group by 1 order by 1\")\n",
    "duracao_media_sessao.show()"
   ]
  },
  {
   "cell_type": "code",
   "execution_count": 42,
   "id": "629439b0",
   "metadata": {},
   "outputs": [],
   "source": []
  },
  {
   "cell_type": "code",
   "execution_count": 53,
   "id": "bb10ed11",
   "metadata": {},
   "outputs": [
    {
     "name": "stdout",
     "output_type": "stream",
     "text": [
      "+-------+-----+\n",
      "|user_id|count|\n",
      "+-------+-----+\n",
      "|  10039|    2|\n",
      "|  10038|    2|\n",
      "|  10001|    1|\n",
      "|  10023|    1|\n",
      "|  10040|    2|\n",
      "|  10022|    1|\n",
      "|  10002|    1|\n",
      "|  10035|    3|\n",
      "|  10028|    1|\n",
      "|  10033|    2|\n",
      "|  10031|    2|\n",
      "|  10027|    1|\n",
      "|  10036|    2|\n",
      "|  10037|    2|\n",
      "|  10024|    1|\n",
      "|  10026|    1|\n",
      "|  10029|    1|\n",
      "|  10032|    3|\n",
      "|  10034|    2|\n",
      "|  10030|    2|\n",
      "+-------+-----+\n",
      "only showing top 20 rows\n",
      "\n",
      "+-------+------------------+------------------+\n",
      "|summary|           user_id|             count|\n",
      "+-------+------------------+------------------+\n",
      "|  count|                21|                21|\n",
      "|   mean|           10028.0| 1.619047619047619|\n",
      "| stddev|10.454664030948324|0.6690433824641325|\n",
      "|    min|             10001|                 1|\n",
      "|    max|             10040|                 3|\n",
      "+-------+------------------+------------------+\n",
      "\n"
     ]
    }
   ],
   "source": [
    "# Como descobrir a quantidade de usuários que já acessaram o site mais de uma vez numa mesma semana:\n",
    "\n",
    "# adiciona uma coluna com o número da semana - aqui só funciona assim porque as datas de acesso são todas do mesmo ano\n",
    "# se fossem em anos diferentes, seria interessante combinar o número da semana com o ano para gerar uma \"chave\"\n",
    "logs_semanas = df.withColumn('week',weekofyear(df.date))\n",
    "\n",
    "#cria tabela virtual para acessar com sql\n",
    "logs_semanas.createOrReplaceTempView(\"log_semana\")\n",
    "\n",
    "# Agrupa quantidade de acessos por usuário por semana, e deixa apenas usuários que acessaram mais de uma vez numa mesma semana e em qual semana isso aconteceu\n",
    "acessos_semanais_por_usuario = sparkSession.sql(\"select user_id, count(*) as weekly_access from log_semana group by user_id, week having count(*)>1 order by 1\")\n",
    "\n",
    "# Agrupa os usuários e conta em quantas semanas eles acessaram o site mais de uma vez\n",
    "acessos_semanais_por_usuario.groupby(\"user_id\").count().show()\n",
    "\n",
    "# Usando a função describe no código da linha anterior, é possível obter a quantidade de usuários distintos que já acessaram o site mais de uma vez por semana\n",
    "acessos_semanais_por_usuario.groupby(\"user_id\").count().describe().show()"
   ]
  },
  {
   "cell_type": "code",
   "execution_count": null,
   "id": "548e73ee",
   "metadata": {},
   "outputs": [],
   "source": []
  }
 ],
 "metadata": {
  "kernelspec": {
   "display_name": "Python 3 (ipykernel)",
   "language": "python",
   "name": "python3"
  },
  "language_info": {
   "codemirror_mode": {
    "name": "ipython",
    "version": 3
   },
   "file_extension": ".py",
   "mimetype": "text/x-python",
   "name": "python",
   "nbconvert_exporter": "python",
   "pygments_lexer": "ipython3",
   "version": "3.11.4"
  }
 },
 "nbformat": 4,
 "nbformat_minor": 5
}
