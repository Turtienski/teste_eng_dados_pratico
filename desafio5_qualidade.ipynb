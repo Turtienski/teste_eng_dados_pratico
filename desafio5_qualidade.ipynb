{
 "cells": [
  {
   "cell_type": "code",
   "execution_count": 2,
   "id": "11892d5b",
   "metadata": {},
   "outputs": [],
   "source": [
    "# importar bibliotecas\n",
    "import pandas as pd\n",
    "import sqlite3"
   ]
  },
  {
   "cell_type": "code",
   "execution_count": 3,
   "id": "c39c4751",
   "metadata": {},
   "outputs": [],
   "source": [
    "# Leitura do Arquivo\n",
    "data_path = \"sales_data.csv\"\n",
    "df = pd.read_csv(data_path)\n"
   ]
  },
  {
   "cell_type": "code",
   "execution_count": 14,
   "id": "9a3c073b",
   "metadata": {},
   "outputs": [
    {
     "data": {
      "text/html": [
       "<div>\n",
       "<style scoped>\n",
       "    .dataframe tbody tr th:only-of-type {\n",
       "        vertical-align: middle;\n",
       "    }\n",
       "\n",
       "    .dataframe tbody tr th {\n",
       "        vertical-align: top;\n",
       "    }\n",
       "\n",
       "    .dataframe thead th {\n",
       "        text-align: right;\n",
       "    }\n",
       "</style>\n",
       "<table border=\"1\" class=\"dataframe\">\n",
       "  <thead>\n",
       "    <tr style=\"text-align: right;\">\n",
       "      <th></th>\n",
       "      <th>transaction_id</th>\n",
       "      <th>product_id</th>\n",
       "      <th>seller_id</th>\n",
       "      <th>sale_value</th>\n",
       "    </tr>\n",
       "  </thead>\n",
       "  <tbody>\n",
       "    <tr>\n",
       "      <th>count</th>\n",
       "      <td>40.000000</td>\n",
       "      <td>40.000000</td>\n",
       "      <td>40.000000</td>\n",
       "      <td>40.00000</td>\n",
       "    </tr>\n",
       "    <tr>\n",
       "      <th>mean</th>\n",
       "      <td>1020.500000</td>\n",
       "      <td>508.700000</td>\n",
       "      <td>2001.950000</td>\n",
       "      <td>177.70000</td>\n",
       "    </tr>\n",
       "    <tr>\n",
       "      <th>std</th>\n",
       "      <td>11.690452</td>\n",
       "      <td>5.814218</td>\n",
       "      <td>0.814925</td>\n",
       "      <td>68.26239</td>\n",
       "    </tr>\n",
       "    <tr>\n",
       "      <th>min</th>\n",
       "      <td>1001.000000</td>\n",
       "      <td>501.000000</td>\n",
       "      <td>2001.000000</td>\n",
       "      <td>70.00000</td>\n",
       "    </tr>\n",
       "    <tr>\n",
       "      <th>25%</th>\n",
       "      <td>1010.750000</td>\n",
       "      <td>503.750000</td>\n",
       "      <td>2001.000000</td>\n",
       "      <td>127.50000</td>\n",
       "    </tr>\n",
       "    <tr>\n",
       "      <th>50%</th>\n",
       "      <td>1020.500000</td>\n",
       "      <td>508.000000</td>\n",
       "      <td>2002.000000</td>\n",
       "      <td>175.00000</td>\n",
       "    </tr>\n",
       "    <tr>\n",
       "      <th>75%</th>\n",
       "      <td>1030.250000</td>\n",
       "      <td>513.250000</td>\n",
       "      <td>2003.000000</td>\n",
       "      <td>220.00000</td>\n",
       "    </tr>\n",
       "    <tr>\n",
       "      <th>max</th>\n",
       "      <td>1040.000000</td>\n",
       "      <td>520.000000</td>\n",
       "      <td>2003.000000</td>\n",
       "      <td>310.00000</td>\n",
       "    </tr>\n",
       "  </tbody>\n",
       "</table>\n",
       "</div>"
      ],
      "text/plain": [
       "       transaction_id  product_id    seller_id  sale_value\n",
       "count       40.000000   40.000000    40.000000    40.00000\n",
       "mean      1020.500000  508.700000  2001.950000   177.70000\n",
       "std         11.690452    5.814218     0.814925    68.26239\n",
       "min       1001.000000  501.000000  2001.000000    70.00000\n",
       "25%       1010.750000  503.750000  2001.000000   127.50000\n",
       "50%       1020.500000  508.000000  2002.000000   175.00000\n",
       "75%       1030.250000  513.250000  2003.000000   220.00000\n",
       "max       1040.000000  520.000000  2003.000000   310.00000"
      ]
     },
     "execution_count": 14,
     "metadata": {},
     "output_type": "execute_result"
    }
   ],
   "source": [
    "# panorama dos dados - valores mínimos, máximos, médias, quartis -> assim é possível ver se tem algo errado logo de cara\n",
    "df.describe()"
   ]
  },
  {
   "cell_type": "code",
   "execution_count": 13,
   "id": "4be79674",
   "metadata": {},
   "outputs": [
    {
     "data": {
      "text/plain": [
       "transaction_id    False\n",
       "date              False\n",
       "product_id        False\n",
       "seller_id         False\n",
       "sale_value        False\n",
       "currency          False\n",
       "dtype: bool"
      ]
     },
     "execution_count": 13,
     "metadata": {},
     "output_type": "execute_result"
    }
   ],
   "source": [
    "#verifica se tem valores nulos\n",
    "df.isnull().any()"
   ]
  },
  {
   "cell_type": "code",
   "execution_count": 12,
   "id": "b31c33c6",
   "metadata": {},
   "outputs": [
    {
     "data": {
      "text/plain": [
       "False"
      ]
     },
     "execution_count": 12,
     "metadata": {},
     "output_type": "execute_result"
    }
   ],
   "source": [
    "#verifica se tem linhas duplicadas\n",
    "df.duplicated().any()"
   ]
  },
  {
   "cell_type": "code",
   "execution_count": 9,
   "id": "83c8afc4",
   "metadata": {},
   "outputs": [
    {
     "data": {
      "text/plain": [
       "True"
      ]
     },
     "execution_count": 9,
     "metadata": {},
     "output_type": "execute_result"
    }
   ],
   "source": [
    "#verifica se tem seller_id duplicadas - faz sentido ter duplicados, pois um mesmo vendedor pode realizar diversas vendas\n",
    "df.duplicated(subset=['seller_id']).any()"
   ]
  },
  {
   "cell_type": "code",
   "execution_count": 15,
   "id": "8c29762e",
   "metadata": {},
   "outputs": [],
   "source": [
    "# conectar a um banco de dados relacional\n",
    "# em seguida, enviar os dados para o banco\n",
    "# caso a tabela já exista, adicionar os dados a ela.\n",
    "# ao final, encerrar conexão\n",
    "con = sqlite3.connect(\"sql_db\")\n",
    "df.to_sql(\"sales_data\", con, if_exists=\"append\", index=\"false\")\n",
    "con.close()"
   ]
  },
  {
   "cell_type": "code",
   "execution_count": null,
   "id": "a384b7f2",
   "metadata": {},
   "outputs": [],
   "source": []
  }
 ],
 "metadata": {
  "kernelspec": {
   "display_name": "Python 3 (ipykernel)",
   "language": "python",
   "name": "python3"
  },
  "language_info": {
   "codemirror_mode": {
    "name": "ipython",
    "version": 3
   },
   "file_extension": ".py",
   "mimetype": "text/x-python",
   "name": "python",
   "nbconvert_exporter": "python",
   "pygments_lexer": "ipython3",
   "version": "3.11.4"
  }
 },
 "nbformat": 4,
 "nbformat_minor": 5
}
