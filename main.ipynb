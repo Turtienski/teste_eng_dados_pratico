{
 "cells": [
  {
   "cell_type": "markdown",
   "metadata": {},
   "source": [
    "Teste Prático para Engenheiros de Dados - Itaú RTDA"
   ]
  },
  {
   "cell_type": "code",
   "execution_count": null,
   "metadata": {},
   "outputs": [],
   "source": [
    "# Importa libs necessárias\n",
    "\n",
    "import pandas as pd\n",
    "import boto3\n",
    "import io\n",
    "\n",
    "from pyspark.sql import SparkSession, functions as f\n",
    "from pyspark.sql.types import StructType, StructField, StringType, DateType, FloatType\n",
    "\n",
    "from dotenv import load_dotenv\n",
    "from os import getenv\n",
    "\n",
    "import requests as req\n",
    "import json\n",
    "\n",
    "load_dotenv()\n"
   ]
  },
  {
   "cell_type": "markdown",
   "metadata": {},
   "source": [
    "1. ETL e Manipulação de Dados\n",
    "\n",
    "Utilize o arquivo sales_data.csv e:\n",
    "Limpe os dados removendo linhas duplicadas e tratando valores ausentes.\n",
    "Transforme o valor da venda de uma moeda fictícia para USD usando a taxa de conversão de 1 FICT = 0.75 USD.\n",
    "Carregue os dados limpos e transformados em um banco de dados relacional."
   ]
  },
  {
   "cell_type": "code",
   "execution_count": null,
   "metadata": {},
   "outputs": [],
   "source": [
    "\n",
    "# Implementação estrutural\n",
    "\n",
    "# Passo 1: Extração e Limpeza dos Dados\n",
    "# Carrega o arquivo CSV\n",
    "df_sales = pd.read_csv('input/sales_data.csv')\n",
    "\n",
    "# Remove linhas duplicadas\n",
    "df_sales = df_sales.drop_duplicates()\n",
    "\n",
    "# Tratar valores ausentes (caso existam)\n",
    "# Substitui valores ausentes por zero.\n",
    "df_sales = df_sales.fillna(0)\n",
    "\n",
    "# Passo 2: Transformação dos Dados\n",
    "# Converter o valor da venda de moeda fictícia (FICT) para USD usando a taxa de conversão de 1 FICT = 0.75 USD\n",
    "df_sales['usd_sale_value'] = df_sales['sale_value'] * 0.75\n",
    "\n",
    "df_sales.to_csv(\"output/struct_sales_data.csv\", index=False)"
   ]
  },
  {
   "cell_type": "markdown",
   "metadata": {},
   "source": [
    "### 2. Análise com Apache Spark(utilize PySpark ou Spark)\n",
    "\n",
    "#### Descrição\n",
    "\n",
    "Dado um conjunto fictício de logs `website_logs.csv`:\n",
    "\n",
    "- Identifique as 10 páginas mais visitadas.\n",
    "- Calcule a média de duração das sessões dos usuários.\n",
    "- Determine quantos usuários retornam ao site mais de uma vez por semana."
   ]
  },
  {
   "cell_type": "code",
   "execution_count": null,
   "metadata": {},
   "outputs": [],
   "source": [
    "# Cria sessão Spark\n",
    "\n",
    "spark = (SparkSession.builder\n",
    "                     .master(\"local[1]\")\n",
    "                     .getOrCreate()\n",
    "         )"
   ]
  },
  {
   "cell_type": "code",
   "execution_count": null,
   "metadata": {},
   "outputs": [],
   "source": [
    "# Importa o Dataframe\n",
    "schema = StructType(\n",
    "    [\n",
    "          StructField(\"user_id\", StringType())\n",
    "         ,StructField(\"page_url\", StringType())\n",
    "         ,StructField(\"session_duration\", FloatType())\n",
    "         ,StructField(\"date\", DateType())\n",
    "    ]\n",
    ")\n",
    "\n",
    "df_website_access = spark.read.csv(\"input/website_logs.csv\", header=True, schema=schema)\n",
    "df_website_access.show()\n",
    "df_website_access.printSchema()"
   ]
  },
  {
   "cell_type": "code",
   "execution_count": null,
   "metadata": {},
   "outputs": [],
   "source": [
    "# 2.1 - Identifique as 10 páginas mais visitadas.\n",
    "\n",
    "df_website_access.groupby(\"page_url\")  \\\n",
    "    .count()                 \\\n",
    "    .sort(f.col(\"count\")\n",
    "          .desc())              \\\n",
    "    .show(10)"
   ]
  },
  {
   "cell_type": "code",
   "execution_count": null,
   "metadata": {},
   "outputs": [],
   "source": [
    "# 2.2 Calcule a média de duração das sessões dos usuários.\n",
    "\n",
    "df_website_access.select(f.avg(\"session_duration\").alias(\"Duração média das sessões\")) \\\n",
    "    .show(10)"
   ]
  },
  {
   "cell_type": "code",
   "execution_count": null,
   "metadata": {},
   "outputs": [],
   "source": [
    "# 2.3 Determine quantos usuários retornam ao site mais de uma vez por semana.\n",
    "\n",
    "# Cria uma coluna que identifica a semana e o ano\n",
    "df_website_access = df_website_access.withColumn(\"year_week\",f.concat_ws(\"-\",f.year(\"date\"),f.weekofyear(\"date\")))\n",
    "\n",
    "# Cria um Dataframe com os usuários que retornam com mais de 1 acesso semanal\n",
    "df_weekly_website_access = df_website_access.groupBy(\"user_id\",\"year_week\").count().filter(\"count > 1\")\n",
    "\n",
    "df_returning_users = df_weekly_website_access.select(\"user_id\").distinct().count()\n",
    "output_message = f\"{df_returning_users} usuários retornam ao site mais de uma vez por semana.\"\n",
    "print(output_message)\n"
   ]
  },
  {
   "cell_type": "markdown",
   "metadata": {},
   "source": [
    "### 3. Desenho de Arquitetura\n",
    "\n",
    "#### Descrição\n",
    "\n",
    "Proponha uma arquitetura em AWS para coletar dados de diferentes fontes:\n",
    "\n",
    "- Desenhe um sistema para coletar dados de uma API.\n",
    "- Processe esses dados em tempo real.\n",
    "- Armazene os dados para análise futura."
   ]
  },
  {
   "cell_type": "code",
   "execution_count": null,
   "metadata": {},
   "outputs": [],
   "source": []
  },
  {
   "cell_type": "markdown",
   "metadata": {},
   "source": [
    "### 4. Codificação\n",
    "\n",
    "#### Descrição\n",
    "\n",
    "Escreva um script Python para:\n",
    "\n",
    "- Se conectar à [API de previsão do tempo OpenWeatherMap](https://openweathermap.org/api).\n",
    "- Coletar dados dessa API para uma cidade de sua escolha.\n",
    "- Armazenar os dados coletados em um banco de dados relacional ou NoSQL(de sua escolha)."
   ]
  },
  {
   "cell_type": "code",
   "execution_count": null,
   "metadata": {},
   "outputs": [],
   "source": [
    "API_KEY = getenv(\"OPEN_WHEATER_API_KEY\")\n",
    "cidade = \"miami\"\n",
    "link = f\"https://api.openweathermap.org/data/2.5/weather?q={cidade}&appid={API_KEY}&lang=pt_br\"\n",
    "\n",
    "with req.get(link) as r:\n",
    "    if r.status_code != 200:\n",
    "        print(\"Erro ao fazer requisição: \",r.status_code)\n",
    "    response = json.loads(r.content)\n",
    "\n",
    "# descricao = response_dic['weather'][0]['description']\n",
    "# temperatura = response_dic['main']['temp'] - 273.15\n",
    "# print(descricao, f\"{temperatura}ºC\")"
   ]
  },
  {
   "cell_type": "code",
   "execution_count": null,
   "metadata": {},
   "outputs": [],
   "source": []
  }
 ],
 "metadata": {
  "kernelspec": {
   "display_name": "Python 3 (ipykernel)",
   "language": "python",
   "name": "python3"
  },
  "language_info": {
   "codemirror_mode": {
    "name": "ipython",
    "version": 3
   },
   "file_extension": ".py",
   "mimetype": "text/x-python",
   "name": "python",
   "nbconvert_exporter": "python",
   "pygments_lexer": "ipython3",
   "version": "3.10.12"
  },
  "orig_nbformat": 4
 },
 "nbformat": 4,
 "nbformat_minor": 2
}
