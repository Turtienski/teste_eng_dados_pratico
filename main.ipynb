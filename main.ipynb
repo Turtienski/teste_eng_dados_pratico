{
 "cells": [
  {
   "cell_type": "markdown",
   "metadata": {},
   "source": [
    "Teste Prático para Engenheiros de Dados - Itaú RTDA"
   ]
  },
  {
   "cell_type": "code",
   "execution_count": 10,
   "metadata": {},
   "outputs": [],
   "source": [
    "#Importa libs necessárias\n",
    "\n",
    "#Ex.: 01\n",
    "import pandas as pd\n",
    "import boto3\n",
    "import io\n",
    "\n",
    "#Ex.: 02\n",
    "from pyspark.sql import SparkSession, functions as f\n",
    " "
   ]
  },
  {
   "cell_type": "markdown",
   "metadata": {},
   "source": [
    "1. ETL e Manipulação de Dados\n",
    "\n",
    "Utilize o arquivo sales_data.csv e:\n",
    "Limpe os dados removendo linhas duplicadas e tratando valores ausentes.\n",
    "Transforme o valor da venda de uma moeda fictícia para USD usando a taxa de conversão de 1 FICT = 0.75 USD.\n",
    "Carregue os dados limpos e transformados em um banco de dados relacional."
   ]
  },
  {
   "cell_type": "code",
   "execution_count": 8,
   "metadata": {},
   "outputs": [],
   "source": [
    "\n",
    "# Implementação estrutural\n",
    "\n",
    "# Passo 1: Extração e Limpeza dos Dados\n",
    "# Carrega o arquivo CSV\n",
    "df = pd.read_csv('datasource/sales_data.csv')\n",
    "\n",
    "# Remove linhas duplicadas\n",
    "df = df.drop_duplicates()\n",
    "\n",
    "# Tratar valores ausentes (caso existam)\n",
    "# Substitui valores ausentes por zero.\n",
    "df = df.fillna(0)\n",
    "\n",
    "# Passo 2: Transformação dos Dados\n",
    "# Converter o valor da venda de moeda fictícia (FICT) para USD usando a taxa de conversão de 1 FICT = 0.75 USD\n",
    "df['usd_sale_value'] = df['sale_value'] * 0.75\n",
    "\n",
    "df.to_csv(\"output/struct_sales_data.csv\", index=False)"
   ]
  }
 ],
 "metadata": {
  "kernelspec": {
   "display_name": "Python 3 (ipykernel)",
   "language": "python",
   "name": "python3"
  },
  "language_info": {
   "codemirror_mode": {
    "name": "ipython",
    "version": 3
   },
   "file_extension": ".py",
   "mimetype": "text/x-python",
   "name": "python",
   "nbconvert_exporter": "python",
   "pygments_lexer": "ipython3",
   "version": "3.10.12"
  },
  "orig_nbformat": 4
 },
 "nbformat": 4,
 "nbformat_minor": 2
}
