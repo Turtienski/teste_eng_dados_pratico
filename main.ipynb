{
 "cells": [
  {
   "cell_type": "markdown",
   "metadata": {},
   "source": [
    "Teste Prático para Engenheiros de Dados - Itaú RTDA"
   ]
  },
  {
   "cell_type": "code",
   "execution_count": 140,
   "metadata": {},
   "outputs": [],
   "source": [
    "# Importa libs necessárias\n",
    "\n",
    "# Ex.: 01\n",
    "import pandas as pd\n",
    "import boto3\n",
    "import io\n",
    "\n",
    "# Ex.: 02\n",
    "from pyspark.sql import SparkSession, functions as f\n",
    "from pyspark.sql.types import StructType, StructField, StringType, DateType, FloatType"
   ]
  },
  {
   "cell_type": "markdown",
   "metadata": {},
   "source": [
    "1. ETL e Manipulação de Dados\n",
    "\n",
    "Utilize o arquivo sales_data.csv e:\n",
    "Limpe os dados removendo linhas duplicadas e tratando valores ausentes.\n",
    "Transforme o valor da venda de uma moeda fictícia para USD usando a taxa de conversão de 1 FICT = 0.75 USD.\n",
    "Carregue os dados limpos e transformados em um banco de dados relacional."
   ]
  },
  {
   "cell_type": "code",
   "execution_count": 141,
   "metadata": {},
   "outputs": [],
   "source": [
    "\n",
    "# Implementação estrutural\n",
    "\n",
    "# Passo 1: Extração e Limpeza dos Dados\n",
    "# Carrega o arquivo CSV\n",
    "df_sales = pd.read_csv('input/sales_data.csv')\n",
    "\n",
    "# Remove linhas duplicadas\n",
    "df_sales = df_sales.drop_duplicates()\n",
    "\n",
    "# Tratar valores ausentes (caso existam)\n",
    "# Substitui valores ausentes por zero.\n",
    "df_sales = df_sales.fillna(0)\n",
    "\n",
    "# Passo 2: Transformação dos Dados\n",
    "# Converter o valor da venda de moeda fictícia (FICT) para USD usando a taxa de conversão de 1 FICT = 0.75 USD\n",
    "df_sales['usd_sale_value'] = df_sales['sale_value'] * 0.75\n",
    "\n",
    "df_sales.to_csv(\"output/struct_sales_data.csv\", index=False)"
   ]
  },
  {
   "cell_type": "markdown",
   "metadata": {},
   "source": [
    "### 2. Análise com Apache Spark(utilize PySpark ou Spark)\n",
    "\n",
    "#### Descrição\n",
    "\n",
    "Dado um conjunto fictício de logs `website_logs.csv`:\n",
    "\n",
    "- Identifique as 10 páginas mais visitadas.\n",
    "- Calcule a média de duração das sessões dos usuários.\n",
    "- Determine quantos usuários retornam ao site mais de uma vez por semana."
   ]
  },
  {
   "cell_type": "code",
   "execution_count": 142,
   "metadata": {},
   "outputs": [],
   "source": [
    "# Cria sessão Spark\n",
    "\n",
    "spark = (SparkSession.builder\n",
    "                     .master(\"local[1]\")\n",
    "                     .getOrCreate()\n",
    "         )"
   ]
  },
  {
   "cell_type": "code",
   "execution_count": 143,
   "metadata": {},
   "outputs": [
    {
     "name": "stdout",
     "output_type": "stream",
     "text": [
      "+-------+-----------------+----------------+----------+\n",
      "|user_id|         page_url|session_duration|      date|\n",
      "+-------+-----------------+----------------+----------+\n",
      "|  10001|    homepage.html|            15.0|2023-07-25|\n",
      "|  10002|product_page.html|           120.0|2023-07-25|\n",
      "|  10003|    checkout.html|            45.0|2023-07-25|\n",
      "|  10004|     contact.html|            20.0|2023-07-25|\n",
      "|  10005|    homepage.html|            10.0|2023-07-25|\n",
      "|  10006|product_page.html|            95.0|2023-07-25|\n",
      "|  10007|        blog.html|           150.0|2023-07-26|\n",
      "|  10008|    homepage.html|            25.0|2023-07-26|\n",
      "|  10009|product_page.html|            85.0|2023-07-26|\n",
      "|  10010|    checkout.html|            50.0|2023-07-26|\n",
      "|  10011|         faq.html|            35.0|2023-07-27|\n",
      "|  10012|    homepage.html|            12.0|2023-07-27|\n",
      "|  10013|product_page.html|           110.0|2023-07-27|\n",
      "|  10014|    checkout.html|            60.0|2023-07-27|\n",
      "|  10015|        blog.html|           160.0|2023-07-28|\n",
      "|  10016|    homepage.html|            18.0|2023-07-28|\n",
      "|  10017|product_page.html|           100.0|2023-07-28|\n",
      "|  10018|    checkout.html|            55.0|2023-07-28|\n",
      "|  10019|     contact.html|            22.0|2023-07-29|\n",
      "|  10020|    homepage.html|            15.0|2023-07-29|\n",
      "+-------+-----------------+----------------+----------+\n",
      "only showing top 20 rows\n",
      "\n",
      "root\n",
      " |-- user_id: string (nullable = true)\n",
      " |-- page_url: string (nullable = true)\n",
      " |-- session_duration: float (nullable = true)\n",
      " |-- date: date (nullable = true)\n",
      "\n"
     ]
    }
   ],
   "source": [
    "# Importa o Dataframe\n",
    "schema = StructType(\n",
    "    [\n",
    "          StructField(\"user_id\", StringType())\n",
    "         ,StructField(\"page_url\", StringType())\n",
    "         ,StructField(\"session_duration\", FloatType())\n",
    "         ,StructField(\"date\", DateType())\n",
    "    ]\n",
    ")\n",
    "\n",
    "df_website_access = spark.read.csv(\"input/website_logs.csv\", header=True, schema=schema)\n",
    "df_website_access.show()\n",
    "df_website_access.printSchema()"
   ]
  },
  {
   "cell_type": "code",
   "execution_count": 144,
   "metadata": {},
   "outputs": [
    {
     "name": "stdout",
     "output_type": "stream",
     "text": [
      "+-----------------+-----+\n",
      "|         page_url|count|\n",
      "+-----------------+-----+\n",
      "|    homepage.html|   51|\n",
      "|product_page.html|   46|\n",
      "|    checkout.html|   35|\n",
      "|     contact.html|   19|\n",
      "|        blog.html|   18|\n",
      "|         faq.html|   14|\n",
      "|    about_us.html|    1|\n",
      "+-----------------+-----+\n",
      "\n"
     ]
    }
   ],
   "source": [
    "# 2.1 - Identifique as 10 páginas mais visitadas.\n",
    "\n",
    "df_website_access.groupby(\"page_url\")  \\\n",
    "    .count()                 \\\n",
    "    .sort(f.col(\"count\")\n",
    "          .desc())              \\\n",
    "    .show(10)"
   ]
  },
  {
   "cell_type": "code",
   "execution_count": 145,
   "metadata": {},
   "outputs": [
    {
     "name": "stdout",
     "output_type": "stream",
     "text": [
      "+-------------------------+\n",
      "|Duração média das sessões|\n",
      "+-------------------------+\n",
      "|        60.84239130434783|\n",
      "+-------------------------+\n",
      "\n"
     ]
    }
   ],
   "source": [
    "# 2.2 Calcule a média de duração das sessões dos usuários.\n",
    "\n",
    "df_website_access.select(f.avg(\"session_duration\").alias(\"Duração média das sessões\")) \\\n",
    "    .show(10)"
   ]
  },
  {
   "cell_type": "code",
   "execution_count": 149,
   "metadata": {},
   "outputs": [
    {
     "name": "stdout",
     "output_type": "stream",
     "text": [
      "21 usuários retornam ao site mais de uma vez por semana.\n"
     ]
    }
   ],
   "source": [
    "# 2.3 Determine quantos usuários retornam ao site mais de uma vez por semana.\n",
    "\n",
    "# Cria uma coluna que identifica a semana e o ano\n",
    "df_website_access = df_website_access.withColumn(\"year_week\",f.concat_ws(\"-\",f.year(\"date\"),f.weekofyear(\"date\")))\n",
    "\n",
    "# Cria um Dataframe com os usuários que retornam com mais de 1 acesso semanal\n",
    "df_weekly_website_access = df_website_access.groupBy(\"user_id\",\"year_week\").count().filter(\"count > 1\")\n",
    "\n",
    "df_returning_users = df_weekly_website_access.select(\"user_id\").distinct().count()\n",
    "output_message = f\"{df_returning_users} usuários retornam ao site mais de uma vez por semana.\"\n",
    "print(output_message)\n"
   ]
  }
 ],
 "metadata": {
  "kernelspec": {
   "display_name": "Python 3 (ipykernel)",
   "language": "python",
   "name": "python3"
  },
  "language_info": {
   "codemirror_mode": {
    "name": "ipython",
    "version": 3
   },
   "file_extension": ".py",
   "mimetype": "text/x-python",
   "name": "python",
   "nbconvert_exporter": "python",
   "pygments_lexer": "ipython3",
   "version": "3.10.12"
  },
  "orig_nbformat": 4
 },
 "nbformat": 4,
 "nbformat_minor": 2
}
