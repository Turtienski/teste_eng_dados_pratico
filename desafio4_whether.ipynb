{
 "cells": [
  {
   "cell_type": "code",
   "execution_count": 29,
   "id": "df0b2b7f",
   "metadata": {},
   "outputs": [],
   "source": [
    "import requests\n",
    "import sqlite3\n",
    "import json\n",
    "import pandas as pd\n",
    "from datetime import datetime\n",
    "\n",
    "\n",
    "def get_forecast_data(city_name):\n",
    "    api_key = \"290fdee5948737f9e602c8dd8d681722\"\n",
    "    # response = requests.get(\"https://api.openweathermap.org/data/2.5/weather?q={city_name}&appid={api_key}\")\n",
    "    response = requests.get(\"https://api.openweathermap.org/data/2.5/weather?q=Curitiba,BR&appid=290fdee5948737f9e602c8dd8d681722\")\n",
    "    # response = requests.get(\"https://api.openweathermap.org/data/2.5/weather?q={city_name}&appid=290fdee5948737f9e602c8dd8d681722\")\n",
    "    # response = requests.get(\"https://api.openweathermap.org/data/2.5/weather?q=Curitiba,BR&appid={api_key}\")\n",
    "    data = response.json()\n",
    "    return data\n",
    "\n",
    "def get_celsius_temp(temp_f):\n",
    "    return (temp_f - 32) * 5/9\n",
    "\n"
   ]
  },
  {
   "cell_type": "code",
   "execution_count": 47,
   "id": "e39573a2",
   "metadata": {},
   "outputs": [
    {
     "name": "stdout",
     "output_type": "stream",
     "text": [
      "289.2\n"
     ]
    }
   ],
   "source": [
    "data = get_forecast_data(\"Curitiba\")\n",
    "# print(data)\n",
    "\n"
   ]
  },
  {
   "cell_type": "code",
   "execution_count": 49,
   "id": "cfb972b1",
   "metadata": {},
   "outputs": [],
   "source": [
    "# extrai os dados para armazenamento\n",
    "description = data['weather'][0]['description']\n",
    "temp = get_celsius_temp(data[\"main\"][\"temp\"])\n",
    "temp_min = get_celsius_temp(data[\"main\"][\"temp_min\"])\n",
    "temp_max = get_celsius_temp(data[\"main\"][\"temp_max\"])\n",
    "humidity = data[\"main\"][\"humidity\"]\n",
    "wind_speed = data[\"wind\"][\"speed\"]\n",
    "timestamp = datetime.fromtimestamp(data['dt'])"
   ]
  },
  {
   "cell_type": "markdown",
   "id": "9bce060b",
   "metadata": {},
   "source": [
    "# "
   ]
  },
  {
   "cell_type": "code",
   "execution_count": 50,
   "id": "281265c0",
   "metadata": {},
   "outputs": [],
   "source": [
    "# conecta ou cria banco de dados SQLite\n",
    "con = sqlite3.connect('weather_data.db')\n",
    "cursor = con.cursor() #para poder usar SQL\n",
    "\n"
   ]
  },
  {
   "cell_type": "code",
   "execution_count": 78,
   "id": "073abc0e",
   "metadata": {},
   "outputs": [
    {
     "data": {
      "text/plain": [
       "<sqlite3.Cursor at 0x24088273740>"
      ]
     },
     "execution_count": 78,
     "metadata": {},
     "output_type": "execute_result"
    }
   ],
   "source": [
    "# caso a tabela não exista no banco, criar\n",
    "cursor.execute('''CREATE TABLE IF NOT EXISTS weather (\n",
    "                    id INTEGER PRIMARY KEY AUTOINCREMENT,\n",
    "                    description NVARCHAR(50),\n",
    "                    temp REAL,\n",
    "                    temp_min REAL,\n",
    "                    temp_max REAL,\n",
    "                    humidity INTEGER,\n",
    "                    wind_speed REAL,\n",
    "                    timestamp DATETIME\n",
    "                )''')\n",
    "\n"
   ]
  },
  {
   "cell_type": "code",
   "execution_count": 80,
   "id": "5ea48213",
   "metadata": {},
   "outputs": [
    {
     "data": {
      "text/plain": [
       "<sqlite3.Cursor at 0x24088273740>"
      ]
     },
     "execution_count": 80,
     "metadata": {},
     "output_type": "execute_result"
    }
   ],
   "source": [
    "# insere os dados na tabela\n",
    "cursor.execute('''INSERT INTO weather (description, temp, temp_min, temp_max, humidity, wind_speed, timestamp)\n",
    "                    VALUES (?, ?, ?, ?, ?, ?, ?)''', (description, temp, temp_min, temp_max, humidity, wind_speed, timestamp))\n",
    "\n"
   ]
  },
  {
   "cell_type": "code",
   "execution_count": 81,
   "id": "029d9cf8",
   "metadata": {},
   "outputs": [],
   "source": [
    "# commita as alterações\n",
    "con.commit()\n",
    "\n",
    "\n",
    "\n",
    "# encerra a conexão com o banco\n",
    "con.close()"
   ]
  },
  {
   "cell_type": "code",
   "execution_count": 71,
   "id": "53fa9af6",
   "metadata": {},
   "outputs": [],
   "source": []
  },
  {
   "cell_type": "code",
   "execution_count": 77,
   "id": "7085cd80",
   "metadata": {},
   "outputs": [
    {
     "ename": "OperationalError",
     "evalue": "no such table: weather",
     "output_type": "error",
     "traceback": [
      "\u001b[1;31m---------------------------------------------------------------------------\u001b[0m",
      "\u001b[1;31mOperationalError\u001b[0m                          Traceback (most recent call last)",
      "Cell \u001b[1;32mIn[77], line 1\u001b[0m\n\u001b[1;32m----> 1\u001b[0m cursor\u001b[38;5;241m.\u001b[39mexecute(\u001b[38;5;124m'''\u001b[39m\u001b[38;5;124mDROP TABLE weather\u001b[39m\u001b[38;5;124m'''\u001b[39m)\n",
      "\u001b[1;31mOperationalError\u001b[0m: no such table: weather"
     ]
    }
   ],
   "source": []
  },
  {
   "cell_type": "code",
   "execution_count": null,
   "id": "fa137481",
   "metadata": {},
   "outputs": [],
   "source": []
  },
  {
   "cell_type": "code",
   "execution_count": null,
   "id": "4cf2ddb4",
   "metadata": {},
   "outputs": [],
   "source": []
  },
  {
   "cell_type": "code",
   "execution_count": null,
   "id": "518f7057",
   "metadata": {},
   "outputs": [],
   "source": []
  },
  {
   "cell_type": "code",
   "execution_count": null,
   "id": "af4b7e29",
   "metadata": {},
   "outputs": [],
   "source": []
  },
  {
   "cell_type": "code",
   "execution_count": null,
   "id": "f4d29bb0",
   "metadata": {},
   "outputs": [],
   "source": []
  },
  {
   "cell_type": "code",
   "execution_count": null,
   "id": "8be3a4ae",
   "metadata": {},
   "outputs": [],
   "source": []
  },
  {
   "cell_type": "code",
   "execution_count": null,
   "id": "52648c27",
   "metadata": {},
   "outputs": [],
   "source": []
  }
 ],
 "metadata": {
  "kernelspec": {
   "display_name": "Python 3 (ipykernel)",
   "language": "python",
   "name": "python3"
  },
  "language_info": {
   "codemirror_mode": {
    "name": "ipython",
    "version": 3
   },
   "file_extension": ".py",
   "mimetype": "text/x-python",
   "name": "python",
   "nbconvert_exporter": "python",
   "pygments_lexer": "ipython3",
   "version": "3.11.4"
  }
 },
 "nbformat": 4,
 "nbformat_minor": 5
}
